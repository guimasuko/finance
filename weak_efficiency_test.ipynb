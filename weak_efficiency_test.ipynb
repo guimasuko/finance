{
 "cells": [
  {
   "cell_type": "code",
   "execution_count": 1,
   "metadata": {},
   "outputs": [],
   "source": [
    "import math\n",
    "import numpy as np\n",
    "import pandas as pd\n",
    "import matplotlib.pyplot as plt\n",
    "from scipy import stats\n",
    "from datetime import datetime, timedelta\n",
    "import pandas_datareader.data as web\n",
    "from calendar import monthrange"
   ]
  },
  {
   "cell_type": "code",
   "execution_count": 2,
   "metadata": {},
   "outputs": [],
   "source": [
    "# sem mensagem de erro\n",
    "pd.options.mode.chained_assignment = None"
   ]
  },
  {
   "cell_type": "code",
   "execution_count": 3,
   "metadata": {},
   "outputs": [],
   "source": [
    "# mostra o dataframe inteiro\n",
    "pd.set_option('display.max_rows', None)"
   ]
  },
  {
   "cell_type": "markdown",
   "metadata": {},
   "source": [
    "## Base de Dados"
   ]
  },
  {
   "cell_type": "markdown",
   "metadata": {},
   "source": [
    "### IBOVESPA, VALE e BANCO DO BRASIL."
   ]
  },
  {
   "cell_type": "markdown",
   "metadata": {},
   "source": [
    "Para este trabalho, a base de dados utilizada será composta pelo índice do BOVESPA, e as ações preferenciais da VALE e do BANCO DO BRASIL. Como parte do exercício será transformar as séries de valores nominais para valores reais, usaremos todos dias do ano como índice, não só os dias úteis. Quando a série do ipca estiver sendo trabalhada vai ficar mais claro o motivo dessa abordagem."
   ]
  },
  {
   "cell_type": "code",
   "execution_count": 4,
   "metadata": {},
   "outputs": [],
   "source": [
    "# criando um dataframe com as datas diárias de 01/01/2000 até hoje\n",
    "date_today = datetime.now().date()\n",
    "days = pd.date_range(start = '2000-01-01', end = date_today, freq='D')"
   ]
  },
  {
   "cell_type": "markdown",
   "metadata": {},
   "source": [
    "Os dados coletados foram as séries como já dito anteriormente, do índice do BOVESPA, e as ações preferenciais da VALE e do BANCO DO BRASIL. Os dados começam do dia 01/01/2000 até o dia atual que é feito esse trabalho, 12/09/2022."
   ]
  },
  {
   "cell_type": "code",
   "execution_count": 5,
   "metadata": {},
   "outputs": [],
   "source": [
    "ibov = web.get_data_yahoo('^BVSP', start = \"2000-01-01\")\n",
    "vale3 = web.get_data_yahoo('VALE3.SA', start = \"2000-01-01\")\n",
    "bbas3 = web.get_data_yahoo('BBAS3.SA', start = \"2000-01-01\")"
   ]
  },
  {
   "cell_type": "markdown",
   "metadata": {},
   "source": [
    "Os preços trabalhos aqui devem ser os ajustados por dividendos e pagamentos. Por isso, a partir daqui o dataframe carregará somente a coluna 'Adj Close', renomeada para a sigla da série temporal."
   ]
  },
  {
   "cell_type": "code",
   "execution_count": 6,
   "metadata": {},
   "outputs": [],
   "source": [
    "ibov = pd.DataFrame(data = ibov['Adj Close'], index = days)\n",
    "ibov = ibov.rename(columns={'Adj Close': 'IBOV'})\n",
    "\n",
    "vale3 = pd.DataFrame(data = vale3['Adj Close'], index = days)\n",
    "vale3 = vale3.rename(columns={'Adj Close': 'VALE3'})\n",
    "\n",
    "bbas3 = pd.DataFrame(data = bbas3['Adj Close'], index = days)\n",
    "bbas3 = bbas3.rename(columns={'Adj Close': 'BBAS3'})"
   ]
  },
  {
   "cell_type": "markdown",
   "metadata": {},
   "source": [
    "Aqui estamos criando uma função que normaliza os dados com valores NaN (Not a Number). A abordagem é simples, se uma entrada tem valor NaN, essa entrada deve receber o valor de uma linha anterior (os sábados receberão os preços de sexta-feira)."
   ]
  },
  {
   "cell_type": "code",
   "execution_count": 7,
   "metadata": {},
   "outputs": [],
   "source": [
    "def normalize_nan(df):\n",
    "    for i in range(len(df)):\n",
    "        if i == 0:\n",
    "            pass\n",
    "        elif math.isnan(df.iloc[i]) == True:\n",
    "            df.iloc[i] = df.iloc[i-1]\n",
    "        else:\n",
    "            continue"
   ]
  },
  {
   "cell_type": "markdown",
   "metadata": {},
   "source": [
    "Normalizamos as três séries."
   ]
  },
  {
   "cell_type": "code",
   "execution_count": 8,
   "metadata": {},
   "outputs": [],
   "source": [
    "normalize_nan(ibov)\n",
    "normalize_nan(vale3)\n",
    "normalize_nan(bbas3)"
   ]
  },
  {
   "cell_type": "markdown",
   "metadata": {},
   "source": [
    "Veremos as 10 primeiras linhas de cada um dos três dataframes."
   ]
  },
  {
   "cell_type": "code",
   "execution_count": 9,
   "metadata": {},
   "outputs": [
    {
     "data": {
      "text/html": [
       "<div>\n",
       "<style scoped>\n",
       "    .dataframe tbody tr th:only-of-type {\n",
       "        vertical-align: middle;\n",
       "    }\n",
       "\n",
       "    .dataframe tbody tr th {\n",
       "        vertical-align: top;\n",
       "    }\n",
       "\n",
       "    .dataframe thead th {\n",
       "        text-align: right;\n",
       "    }\n",
       "</style>\n",
       "<table border=\"1\" class=\"dataframe\">\n",
       "  <thead>\n",
       "    <tr style=\"text-align: right;\">\n",
       "      <th></th>\n",
       "      <th>IBOV</th>\n",
       "    </tr>\n",
       "  </thead>\n",
       "  <tbody>\n",
       "    <tr>\n",
       "      <th>2000-01-01</th>\n",
       "      <td>NaN</td>\n",
       "    </tr>\n",
       "    <tr>\n",
       "      <th>2000-01-02</th>\n",
       "      <td>NaN</td>\n",
       "    </tr>\n",
       "    <tr>\n",
       "      <th>2000-01-03</th>\n",
       "      <td>16930.0</td>\n",
       "    </tr>\n",
       "    <tr>\n",
       "      <th>2000-01-04</th>\n",
       "      <td>15851.0</td>\n",
       "    </tr>\n",
       "    <tr>\n",
       "      <th>2000-01-05</th>\n",
       "      <td>16245.0</td>\n",
       "    </tr>\n",
       "    <tr>\n",
       "      <th>2000-01-06</th>\n",
       "      <td>16107.0</td>\n",
       "    </tr>\n",
       "    <tr>\n",
       "      <th>2000-01-07</th>\n",
       "      <td>16309.0</td>\n",
       "    </tr>\n",
       "    <tr>\n",
       "      <th>2000-01-08</th>\n",
       "      <td>16309.0</td>\n",
       "    </tr>\n",
       "    <tr>\n",
       "      <th>2000-01-09</th>\n",
       "      <td>16309.0</td>\n",
       "    </tr>\n",
       "    <tr>\n",
       "      <th>2000-01-10</th>\n",
       "      <td>17022.0</td>\n",
       "    </tr>\n",
       "  </tbody>\n",
       "</table>\n",
       "</div>"
      ],
      "text/plain": [
       "               IBOV\n",
       "2000-01-01      NaN\n",
       "2000-01-02      NaN\n",
       "2000-01-03  16930.0\n",
       "2000-01-04  15851.0\n",
       "2000-01-05  16245.0\n",
       "2000-01-06  16107.0\n",
       "2000-01-07  16309.0\n",
       "2000-01-08  16309.0\n",
       "2000-01-09  16309.0\n",
       "2000-01-10  17022.0"
      ]
     },
     "execution_count": 9,
     "metadata": {},
     "output_type": "execute_result"
    }
   ],
   "source": [
    "ibov.head(10)"
   ]
  },
  {
   "cell_type": "code",
   "execution_count": 10,
   "metadata": {},
   "outputs": [
    {
     "data": {
      "text/html": [
       "<div>\n",
       "<style scoped>\n",
       "    .dataframe tbody tr th:only-of-type {\n",
       "        vertical-align: middle;\n",
       "    }\n",
       "\n",
       "    .dataframe tbody tr th {\n",
       "        vertical-align: top;\n",
       "    }\n",
       "\n",
       "    .dataframe thead th {\n",
       "        text-align: right;\n",
       "    }\n",
       "</style>\n",
       "<table border=\"1\" class=\"dataframe\">\n",
       "  <thead>\n",
       "    <tr style=\"text-align: right;\">\n",
       "      <th></th>\n",
       "      <th>VALE3</th>\n",
       "    </tr>\n",
       "  </thead>\n",
       "  <tbody>\n",
       "    <tr>\n",
       "      <th>2000-01-01</th>\n",
       "      <td>NaN</td>\n",
       "    </tr>\n",
       "    <tr>\n",
       "      <th>2000-01-02</th>\n",
       "      <td>NaN</td>\n",
       "    </tr>\n",
       "    <tr>\n",
       "      <th>2000-01-03</th>\n",
       "      <td>1.707494</td>\n",
       "    </tr>\n",
       "    <tr>\n",
       "      <th>2000-01-04</th>\n",
       "      <td>1.666840</td>\n",
       "    </tr>\n",
       "    <tr>\n",
       "      <th>2000-01-05</th>\n",
       "      <td>1.666840</td>\n",
       "    </tr>\n",
       "    <tr>\n",
       "      <th>2000-01-06</th>\n",
       "      <td>1.666840</td>\n",
       "    </tr>\n",
       "    <tr>\n",
       "      <th>2000-01-07</th>\n",
       "      <td>1.727822</td>\n",
       "    </tr>\n",
       "    <tr>\n",
       "      <th>2000-01-08</th>\n",
       "      <td>1.727822</td>\n",
       "    </tr>\n",
       "    <tr>\n",
       "      <th>2000-01-09</th>\n",
       "      <td>1.727822</td>\n",
       "    </tr>\n",
       "    <tr>\n",
       "      <th>2000-01-10</th>\n",
       "      <td>1.870113</td>\n",
       "    </tr>\n",
       "  </tbody>\n",
       "</table>\n",
       "</div>"
      ],
      "text/plain": [
       "               VALE3\n",
       "2000-01-01       NaN\n",
       "2000-01-02       NaN\n",
       "2000-01-03  1.707494\n",
       "2000-01-04  1.666840\n",
       "2000-01-05  1.666840\n",
       "2000-01-06  1.666840\n",
       "2000-01-07  1.727822\n",
       "2000-01-08  1.727822\n",
       "2000-01-09  1.727822\n",
       "2000-01-10  1.870113"
      ]
     },
     "execution_count": 10,
     "metadata": {},
     "output_type": "execute_result"
    }
   ],
   "source": [
    "vale3.head(10)"
   ]
  },
  {
   "cell_type": "code",
   "execution_count": 11,
   "metadata": {},
   "outputs": [
    {
     "data": {
      "text/html": [
       "<div>\n",
       "<style scoped>\n",
       "    .dataframe tbody tr th:only-of-type {\n",
       "        vertical-align: middle;\n",
       "    }\n",
       "\n",
       "    .dataframe tbody tr th {\n",
       "        vertical-align: top;\n",
       "    }\n",
       "\n",
       "    .dataframe thead th {\n",
       "        text-align: right;\n",
       "    }\n",
       "</style>\n",
       "<table border=\"1\" class=\"dataframe\">\n",
       "  <thead>\n",
       "    <tr style=\"text-align: right;\">\n",
       "      <th></th>\n",
       "      <th>BBAS3</th>\n",
       "    </tr>\n",
       "  </thead>\n",
       "  <tbody>\n",
       "    <tr>\n",
       "      <th>2000-01-01</th>\n",
       "      <td>NaN</td>\n",
       "    </tr>\n",
       "    <tr>\n",
       "      <th>2000-01-02</th>\n",
       "      <td>NaN</td>\n",
       "    </tr>\n",
       "    <tr>\n",
       "      <th>2000-01-03</th>\n",
       "      <td>1.176301</td>\n",
       "    </tr>\n",
       "    <tr>\n",
       "      <th>2000-01-04</th>\n",
       "      <td>1.120355</td>\n",
       "    </tr>\n",
       "    <tr>\n",
       "      <th>2000-01-05</th>\n",
       "      <td>1.131831</td>\n",
       "    </tr>\n",
       "    <tr>\n",
       "      <th>2000-01-06</th>\n",
       "      <td>1.147610</td>\n",
       "    </tr>\n",
       "    <tr>\n",
       "      <th>2000-01-07</th>\n",
       "      <td>1.121789</td>\n",
       "    </tr>\n",
       "    <tr>\n",
       "      <th>2000-01-08</th>\n",
       "      <td>1.121789</td>\n",
       "    </tr>\n",
       "    <tr>\n",
       "      <th>2000-01-09</th>\n",
       "      <td>1.121789</td>\n",
       "    </tr>\n",
       "    <tr>\n",
       "      <th>2000-01-10</th>\n",
       "      <td>1.183474</td>\n",
       "    </tr>\n",
       "  </tbody>\n",
       "</table>\n",
       "</div>"
      ],
      "text/plain": [
       "               BBAS3\n",
       "2000-01-01       NaN\n",
       "2000-01-02       NaN\n",
       "2000-01-03  1.176301\n",
       "2000-01-04  1.120355\n",
       "2000-01-05  1.131831\n",
       "2000-01-06  1.147610\n",
       "2000-01-07  1.121789\n",
       "2000-01-08  1.121789\n",
       "2000-01-09  1.121789\n",
       "2000-01-10  1.183474"
      ]
     },
     "execution_count": 11,
     "metadata": {},
     "output_type": "execute_result"
    }
   ],
   "source": [
    "bbas3.head(10)"
   ]
  },
  {
   "cell_type": "markdown",
   "metadata": {},
   "source": [
    "Mais uma função a ser criada. Essa recebe com input um código referente a uma série temporal contida na base de dados do Banco Central do Brasil. Essa função nos entregará a série mensal do IPCA."
   ]
  },
  {
   "cell_type": "markdown",
   "metadata": {},
   "source": [
    "### IPCA"
   ]
  },
  {
   "cell_type": "code",
   "execution_count": 12,
   "metadata": {},
   "outputs": [],
   "source": [
    "def consulta_bc(codigo_bcb):\n",
    "  url = 'http://api.bcb.gov.br/dados/serie/bcdata.sgs.{}/dados?formato=json'.format(codigo_bcb)\n",
    "  df = pd.read_json(url)\n",
    "  df['data'] = pd.to_datetime(df['data'], dayfirst=True)\n",
    "  df.set_index('data', inplace=True)\n",
    "  return df"
   ]
  },
  {
   "cell_type": "markdown",
   "metadata": {},
   "source": [
    "Função criada. O valor de entrada 433 é referente a série mensal do IPCA. Esses valores são os valores de variação mês a mês do Índice de Preços ao Consumidor Amplo."
   ]
  },
  {
   "cell_type": "code",
   "execution_count": 13,
   "metadata": {},
   "outputs": [],
   "source": [
    "ipca = pd.DataFrame(consulta_bc(433), index = days)"
   ]
  },
  {
   "cell_type": "markdown",
   "metadata": {},
   "source": [
    "Como teremos que deixar séries temporais diárias em valores reais, precisamos criar um índice de preços com a evolução diária dos preços. Para isso, o dataframe de IPCA é criado para todos os dias do ano (não só os úteis). A abordagem aqui será de homogeneizar diariamente a variação mensal dos preços. Primeiro normalizamos as entradas NaN."
   ]
  },
  {
   "cell_type": "code",
   "execution_count": 14,
   "metadata": {},
   "outputs": [],
   "source": [
    "normalize_nan(ipca['valor'])"
   ]
  },
  {
   "cell_type": "markdown",
   "metadata": {},
   "source": [
    "A variação está em porcentagem. A interpretação desse valor é que os preços de determinado mês aumentaram/diminuiram $x$% em relação aos preços do mês passado. Dessa forma, é necessário escrever como\n",
    "\n",
    "$$\n",
    "    1 + IPCA_{mensal} = 1 + \\frac{x}{100}\n",
    "$$\n",
    "\n",
    "onde $x$ é o valor de variação mensal dos preços em porcentagem, em relação aos preços do mês passado."
   ]
  },
  {
   "cell_type": "code",
   "execution_count": 15,
   "metadata": {},
   "outputs": [],
   "source": [
    "ipca['1 + IPCA_m'] = 1 + (ipca['valor']/100)"
   ]
  },
  {
   "cell_type": "markdown",
   "metadata": {},
   "source": [
    "Como precisamos deixar essa taxa diária, é necessário criar outra coluna, a princípio com valores NaN."
   ]
  },
  {
   "cell_type": "code",
   "execution_count": 16,
   "metadata": {},
   "outputs": [],
   "source": [
    "ipca['1 + IPCA_d'] = np.nan"
   ]
  },
  {
   "cell_type": "markdown",
   "metadata": {},
   "source": [
    "A transição dessa taxa de mensal para diário é a seguinte conta:\n",
    "\n",
    "$$\n",
    "    (1 + IPCA_{diário}) = (1 + IPCA_{mensal})^{\\frac{1}{d}}\n",
    "$$\n",
    "\n",
    "onde $d$ é a quantidade de dias que tem determinado mês. \n",
    "\n",
    "Como cada mês tem determinada quantidade específica de dias, é necessário fazer um loop para capturar corretamente como foi a evolução dos preços de cada dia, caso contrário poderíamos obter após mais de 20 anos dados distorções na evolução agregada dos preços."
   ]
  },
  {
   "cell_type": "code",
   "execution_count": 17,
   "metadata": {},
   "outputs": [],
   "source": [
    "for i in range(len(ipca)):\n",
    "    month = pd.DatetimeIndex(ipca.index).month[i]\n",
    "    year = pd.DatetimeIndex(ipca.index).year[i]\n",
    "    days_of_the_month = monthrange(year, month)[1]\n",
    "    ipca['1 + IPCA_d'][i] = (ipca['1 + IPCA_m'][i])**(1/days_of_the_month)"
   ]
  },
  {
   "cell_type": "markdown",
   "metadata": {},
   "source": [
    "Finalmente vamos criar o índice de preços. Novamente é criada uma coluna com valores NaN."
   ]
  },
  {
   "cell_type": "code",
   "execution_count": 18,
   "metadata": {},
   "outputs": [],
   "source": [
    "ipca['IPCA_index'] = np.nan"
   ]
  },
  {
   "cell_type": "markdown",
   "metadata": {},
   "source": [
    "Para criar o índice, é normalizado para o primeiro dia da amostra o valor 1, esse é o dia que serve como base. O índice é obtido através de\n",
    "\n",
    "$$\n",
    "    ÍndiceIPCA_{d} = (1 + IPCA_{diário})^{d}\n",
    "$$\n",
    "\n",
    "onde $d$ agora, é a quantidade de dias à frente da data base (01/01/2000). A interpretação desse valor é que os preços evoluíramos $(ÍndiceIPCA_{d} - 1)\\cdot 100$% em $d$ dias a partir do dia 01/01/2000."
   ]
  },
  {
   "cell_type": "code",
   "execution_count": 19,
   "metadata": {},
   "outputs": [],
   "source": [
    "for i in range(len(ipca)):\n",
    "    if i == 0:\n",
    "        ipca['IPCA_index'][i] = 1\n",
    "    else:\n",
    "        ipca['IPCA_index'][i] = (ipca['IPCA_index'][i-1]*ipca['1 + IPCA_d'][i])"
   ]
  },
  {
   "cell_type": "code",
   "execution_count": 21,
   "metadata": {},
   "outputs": [
    {
     "data": {
      "text/html": [
       "<div>\n",
       "<style scoped>\n",
       "    .dataframe tbody tr th:only-of-type {\n",
       "        vertical-align: middle;\n",
       "    }\n",
       "\n",
       "    .dataframe tbody tr th {\n",
       "        vertical-align: top;\n",
       "    }\n",
       "\n",
       "    .dataframe thead th {\n",
       "        text-align: right;\n",
       "    }\n",
       "</style>\n",
       "<table border=\"1\" class=\"dataframe\">\n",
       "  <thead>\n",
       "    <tr style=\"text-align: right;\">\n",
       "      <th></th>\n",
       "      <th>valor</th>\n",
       "      <th>1 + IPCA_m</th>\n",
       "      <th>1 + IPCA_d</th>\n",
       "      <th>IPCA_index</th>\n",
       "    </tr>\n",
       "  </thead>\n",
       "  <tbody>\n",
       "    <tr>\n",
       "      <th>2000-01-01</th>\n",
       "      <td>0.62</td>\n",
       "      <td>1.0062</td>\n",
       "      <td>1.000199</td>\n",
       "      <td>1.000000</td>\n",
       "    </tr>\n",
       "    <tr>\n",
       "      <th>2000-01-02</th>\n",
       "      <td>0.62</td>\n",
       "      <td>1.0062</td>\n",
       "      <td>1.000199</td>\n",
       "      <td>1.000199</td>\n",
       "    </tr>\n",
       "    <tr>\n",
       "      <th>2000-01-03</th>\n",
       "      <td>0.62</td>\n",
       "      <td>1.0062</td>\n",
       "      <td>1.000199</td>\n",
       "      <td>1.000399</td>\n",
       "    </tr>\n",
       "    <tr>\n",
       "      <th>2000-01-04</th>\n",
       "      <td>0.62</td>\n",
       "      <td>1.0062</td>\n",
       "      <td>1.000199</td>\n",
       "      <td>1.000598</td>\n",
       "    </tr>\n",
       "    <tr>\n",
       "      <th>2000-01-05</th>\n",
       "      <td>0.62</td>\n",
       "      <td>1.0062</td>\n",
       "      <td>1.000199</td>\n",
       "      <td>1.000798</td>\n",
       "    </tr>\n",
       "    <tr>\n",
       "      <th>2000-01-06</th>\n",
       "      <td>0.62</td>\n",
       "      <td>1.0062</td>\n",
       "      <td>1.000199</td>\n",
       "      <td>1.000997</td>\n",
       "    </tr>\n",
       "    <tr>\n",
       "      <th>2000-01-07</th>\n",
       "      <td>0.62</td>\n",
       "      <td>1.0062</td>\n",
       "      <td>1.000199</td>\n",
       "      <td>1.001197</td>\n",
       "    </tr>\n",
       "    <tr>\n",
       "      <th>2000-01-08</th>\n",
       "      <td>0.62</td>\n",
       "      <td>1.0062</td>\n",
       "      <td>1.000199</td>\n",
       "      <td>1.001397</td>\n",
       "    </tr>\n",
       "    <tr>\n",
       "      <th>2000-01-09</th>\n",
       "      <td>0.62</td>\n",
       "      <td>1.0062</td>\n",
       "      <td>1.000199</td>\n",
       "      <td>1.001596</td>\n",
       "    </tr>\n",
       "    <tr>\n",
       "      <th>2000-01-10</th>\n",
       "      <td>0.62</td>\n",
       "      <td>1.0062</td>\n",
       "      <td>1.000199</td>\n",
       "      <td>1.001796</td>\n",
       "    </tr>\n",
       "  </tbody>\n",
       "</table>\n",
       "</div>"
      ],
      "text/plain": [
       "            valor  1 + IPCA_m  1 + IPCA_d  IPCA_index\n",
       "2000-01-01   0.62      1.0062    1.000199    1.000000\n",
       "2000-01-02   0.62      1.0062    1.000199    1.000199\n",
       "2000-01-03   0.62      1.0062    1.000199    1.000399\n",
       "2000-01-04   0.62      1.0062    1.000199    1.000598\n",
       "2000-01-05   0.62      1.0062    1.000199    1.000798\n",
       "2000-01-06   0.62      1.0062    1.000199    1.000997\n",
       "2000-01-07   0.62      1.0062    1.000199    1.001197\n",
       "2000-01-08   0.62      1.0062    1.000199    1.001397\n",
       "2000-01-09   0.62      1.0062    1.000199    1.001596\n",
       "2000-01-10   0.62      1.0062    1.000199    1.001796"
      ]
     },
     "execution_count": 21,
     "metadata": {},
     "output_type": "execute_result"
    }
   ],
   "source": [
    "ipca.head(10)"
   ]
  },
  {
   "cell_type": "markdown",
   "metadata": {},
   "source": [
    "## Base de dados pronta"
   ]
  },
  {
   "cell_type": "markdown",
   "metadata": {},
   "source": [
    "### IBOVESPA, VALE e BANCO DO BRASIL nominais e reais."
   ]
  },
  {
   "cell_type": "markdown",
   "metadata": {},
   "source": [
    "Após deixar o índice do IPCA pronto, unimos os dataframes."
   ]
  },
  {
   "cell_type": "code",
   "execution_count": 22,
   "metadata": {},
   "outputs": [],
   "source": [
    "ibov_ = pd.merge(ibov, ipca['IPCA_index'], how='left', left_index=True, right_index=True)\n",
    "\n",
    "vale3_ = pd.merge(vale3, ipca['IPCA_index'], how='left', left_index=True, right_index=True)\n",
    "\n",
    "bbas3_ = pd.merge(bbas3, ipca['IPCA_index'], how='left', left_index=True, right_index=True)"
   ]
  },
  {
   "cell_type": "markdown",
   "metadata": {},
   "source": [
    "As séries reais nada mais são do que as séries nominais divididas pelo índice. Isso é, para o Ibovespa por exemplo\n",
    "\n",
    "$$\n",
    "    IbovespaREAL_{d} = \\frac{IbovespaNOMINAL_{d}}{ÍndiceIPCA_{d}}\n",
    "$$"
   ]
  },
  {
   "cell_type": "code",
   "execution_count": 23,
   "metadata": {},
   "outputs": [],
   "source": [
    "ibov_['IBOV_real'] = ibov_['IBOV']/ibov_['IPCA_index']\n",
    "\n",
    "vale3_['VALE3_real'] = vale3_['VALE3']/vale3_['IPCA_index']\n",
    "\n",
    "bbas3_['BBAS3_real'] = bbas3_['BBAS3']/bbas3_['IPCA_index']"
   ]
  },
  {
   "cell_type": "markdown",
   "metadata": {},
   "source": [
    "### RETORNOS"
   ]
  },
  {
   "cell_type": "markdown",
   "metadata": {},
   "source": [
    "Obtido as séries reais, agora podemos transformar em taxas de retorno diárias:\n",
    "\n",
    "$$\n",
    "    r_{t}^{i} = \\frac{P_{t}^{i} - P_{t-1}^{i}}{P_{t-1}^{i}}\n",
    "$$\n",
    "\n",
    "onde o subscrito $t$ representa o período, o superescrito $i$ representa o índice/ação, $P$ representa o preço e $r$ a taxa de retorno."
   ]
  },
  {
   "cell_type": "code",
   "execution_count": 25,
   "metadata": {},
   "outputs": [],
   "source": [
    "# Nominal\n",
    "ibov_['IBOV_(t)'] = ((ibov_['IBOV'] - ibov_['IBOV'].shift(1))/ibov_['IBOV'].shift(1))\n",
    "\n",
    "vale3_['VALE3_(t)'] = ((vale3_['VALE3'] - vale3_['VALE3'].shift(1))/vale3_['VALE3'].shift(1))\n",
    "\n",
    "bbas3_['BBAS3_(t)'] = ((bbas3_['BBAS3'] - bbas3_['BBAS3'].shift(1))/bbas3_['BBAS3'].shift(1))\n",
    "\n",
    "# Real\n",
    "ibov_['IBOV_real_(t)'] = ((ibov_['IBOV_real'] - ibov_['IBOV_real'].shift(1))/ibov_['IBOV_real'].shift(1))\n",
    "\n",
    "vale3_['VALE3_real_(t)'] = ((vale3_['VALE3_real'] - vale3_['VALE3_real'].shift(1))/vale3_['VALE3_real'].shift(1))\n",
    "\n",
    "bbas3_['BBAS3_real_(t)'] = ((bbas3_['BBAS3_real'] - bbas3_['BBAS3_real'].shift(1))/bbas3_['BBAS3_real'].shift(1))"
   ]
  },
  {
   "cell_type": "markdown",
   "metadata": {},
   "source": [
    "Como adicionamos os preços aos dias em que o mercado não foi aberto, e esses preços teoricamente não evoluem nesses dias, teremos retornos nulos nesses casos. O estudo é uma análise de correlação entre séries, então se mantivermos isso em nossa base de dados, podemos acabar capturando uma correlação espúria. Portanto devemos retirar tais dados da nossa amostra."
   ]
  },
  {
   "cell_type": "code",
   "execution_count": 26,
   "metadata": {},
   "outputs": [],
   "source": [
    "delete_row = ibov_[ibov_['IBOV_(t)']==0].index\n",
    "ibov_ = ibov_.drop(delete_row)"
   ]
  },
  {
   "cell_type": "code",
   "execution_count": 27,
   "metadata": {},
   "outputs": [],
   "source": [
    "delete_row = vale3_[vale3_['VALE3_(t)']==0].index\n",
    "vale3_ = vale3_.drop(delete_row)"
   ]
  },
  {
   "cell_type": "code",
   "execution_count": 28,
   "metadata": {},
   "outputs": [],
   "source": [
    "delete_row = bbas3_[bbas3_['BBAS3_(t)']==0].index\n",
    "bbas3_ = bbas3_.drop(delete_row)"
   ]
  },
  {
   "cell_type": "code",
   "execution_count": 29,
   "metadata": {},
   "outputs": [
    {
     "data": {
      "text/html": [
       "<div>\n",
       "<style scoped>\n",
       "    .dataframe tbody tr th:only-of-type {\n",
       "        vertical-align: middle;\n",
       "    }\n",
       "\n",
       "    .dataframe tbody tr th {\n",
       "        vertical-align: top;\n",
       "    }\n",
       "\n",
       "    .dataframe thead th {\n",
       "        text-align: right;\n",
       "    }\n",
       "</style>\n",
       "<table border=\"1\" class=\"dataframe\">\n",
       "  <thead>\n",
       "    <tr style=\"text-align: right;\">\n",
       "      <th></th>\n",
       "      <th>IBOV</th>\n",
       "      <th>IPCA_index</th>\n",
       "      <th>IBOV_real</th>\n",
       "      <th>IBOV_(t)</th>\n",
       "      <th>IBOV_real_(t)</th>\n",
       "    </tr>\n",
       "  </thead>\n",
       "  <tbody>\n",
       "    <tr>\n",
       "      <th>2000-01-01</th>\n",
       "      <td>NaN</td>\n",
       "      <td>1.000000</td>\n",
       "      <td>NaN</td>\n",
       "      <td>NaN</td>\n",
       "      <td>NaN</td>\n",
       "    </tr>\n",
       "    <tr>\n",
       "      <th>2000-01-02</th>\n",
       "      <td>NaN</td>\n",
       "      <td>1.000199</td>\n",
       "      <td>NaN</td>\n",
       "      <td>NaN</td>\n",
       "      <td>NaN</td>\n",
       "    </tr>\n",
       "    <tr>\n",
       "      <th>2000-01-03</th>\n",
       "      <td>16930.0</td>\n",
       "      <td>1.000399</td>\n",
       "      <td>16923.250253</td>\n",
       "      <td>NaN</td>\n",
       "      <td>NaN</td>\n",
       "    </tr>\n",
       "    <tr>\n",
       "      <th>2000-01-04</th>\n",
       "      <td>15851.0</td>\n",
       "      <td>1.000598</td>\n",
       "      <td>15841.521597</td>\n",
       "      <td>-0.063733</td>\n",
       "      <td>-0.063920</td>\n",
       "    </tr>\n",
       "    <tr>\n",
       "      <th>2000-01-05</th>\n",
       "      <td>16245.0</td>\n",
       "      <td>1.000798</td>\n",
       "      <td>16232.049287</td>\n",
       "      <td>0.024856</td>\n",
       "      <td>0.024652</td>\n",
       "    </tr>\n",
       "    <tr>\n",
       "      <th>2000-01-06</th>\n",
       "      <td>16107.0</td>\n",
       "      <td>1.000997</td>\n",
       "      <td>16090.950727</td>\n",
       "      <td>-0.008495</td>\n",
       "      <td>-0.008693</td>\n",
       "    </tr>\n",
       "    <tr>\n",
       "      <th>2000-01-07</th>\n",
       "      <td>16309.0</td>\n",
       "      <td>1.001197</td>\n",
       "      <td>16289.501285</td>\n",
       "      <td>0.012541</td>\n",
       "      <td>0.012339</td>\n",
       "    </tr>\n",
       "    <tr>\n",
       "      <th>2000-01-10</th>\n",
       "      <td>17022.0</td>\n",
       "      <td>1.001796</td>\n",
       "      <td>16991.482381</td>\n",
       "      <td>0.043718</td>\n",
       "      <td>0.043510</td>\n",
       "    </tr>\n",
       "    <tr>\n",
       "      <th>2000-01-11</th>\n",
       "      <td>16573.0</td>\n",
       "      <td>1.001996</td>\n",
       "      <td>16539.989250</td>\n",
       "      <td>-0.026378</td>\n",
       "      <td>-0.026572</td>\n",
       "    </tr>\n",
       "    <tr>\n",
       "      <th>2000-01-12</th>\n",
       "      <td>16617.0</td>\n",
       "      <td>1.002196</td>\n",
       "      <td>16580.595398</td>\n",
       "      <td>0.002655</td>\n",
       "      <td>0.002455</td>\n",
       "    </tr>\n",
       "  </tbody>\n",
       "</table>\n",
       "</div>"
      ],
      "text/plain": [
       "               IBOV  IPCA_index     IBOV_real  IBOV_(t)  IBOV_real_(t)\n",
       "2000-01-01      NaN    1.000000           NaN       NaN            NaN\n",
       "2000-01-02      NaN    1.000199           NaN       NaN            NaN\n",
       "2000-01-03  16930.0    1.000399  16923.250253       NaN            NaN\n",
       "2000-01-04  15851.0    1.000598  15841.521597 -0.063733      -0.063920\n",
       "2000-01-05  16245.0    1.000798  16232.049287  0.024856       0.024652\n",
       "2000-01-06  16107.0    1.000997  16090.950727 -0.008495      -0.008693\n",
       "2000-01-07  16309.0    1.001197  16289.501285  0.012541       0.012339\n",
       "2000-01-10  17022.0    1.001796  16991.482381  0.043718       0.043510\n",
       "2000-01-11  16573.0    1.001996  16539.989250 -0.026378      -0.026572\n",
       "2000-01-12  16617.0    1.002196  16580.595398  0.002655       0.002455"
      ]
     },
     "execution_count": 29,
     "metadata": {},
     "output_type": "execute_result"
    }
   ],
   "source": [
    "ibov_.head(10)"
   ]
  },
  {
   "cell_type": "code",
   "execution_count": 31,
   "metadata": {},
   "outputs": [
    {
     "data": {
      "text/html": [
       "<div>\n",
       "<style scoped>\n",
       "    .dataframe tbody tr th:only-of-type {\n",
       "        vertical-align: middle;\n",
       "    }\n",
       "\n",
       "    .dataframe tbody tr th {\n",
       "        vertical-align: top;\n",
       "    }\n",
       "\n",
       "    .dataframe thead th {\n",
       "        text-align: right;\n",
       "    }\n",
       "</style>\n",
       "<table border=\"1\" class=\"dataframe\">\n",
       "  <thead>\n",
       "    <tr style=\"text-align: right;\">\n",
       "      <th></th>\n",
       "      <th>VALE3</th>\n",
       "      <th>IPCA_index</th>\n",
       "      <th>VALE3_real</th>\n",
       "      <th>VALE3_(t)</th>\n",
       "      <th>VALE3_real_(t)</th>\n",
       "    </tr>\n",
       "  </thead>\n",
       "  <tbody>\n",
       "    <tr>\n",
       "      <th>2000-01-01</th>\n",
       "      <td>NaN</td>\n",
       "      <td>1.000000</td>\n",
       "      <td>NaN</td>\n",
       "      <td>NaN</td>\n",
       "      <td>NaN</td>\n",
       "    </tr>\n",
       "    <tr>\n",
       "      <th>2000-01-02</th>\n",
       "      <td>NaN</td>\n",
       "      <td>1.000199</td>\n",
       "      <td>NaN</td>\n",
       "      <td>NaN</td>\n",
       "      <td>NaN</td>\n",
       "    </tr>\n",
       "    <tr>\n",
       "      <th>2000-01-03</th>\n",
       "      <td>1.707494</td>\n",
       "      <td>1.000399</td>\n",
       "      <td>1.706813</td>\n",
       "      <td>NaN</td>\n",
       "      <td>NaN</td>\n",
       "    </tr>\n",
       "    <tr>\n",
       "      <th>2000-01-04</th>\n",
       "      <td>1.666840</td>\n",
       "      <td>1.000598</td>\n",
       "      <td>1.665843</td>\n",
       "      <td>-0.023809</td>\n",
       "      <td>-0.024004</td>\n",
       "    </tr>\n",
       "    <tr>\n",
       "      <th>2000-01-07</th>\n",
       "      <td>1.727822</td>\n",
       "      <td>1.001197</td>\n",
       "      <td>1.725756</td>\n",
       "      <td>0.036585</td>\n",
       "      <td>0.036379</td>\n",
       "    </tr>\n",
       "    <tr>\n",
       "      <th>2000-01-10</th>\n",
       "      <td>1.870113</td>\n",
       "      <td>1.001796</td>\n",
       "      <td>1.866760</td>\n",
       "      <td>0.082353</td>\n",
       "      <td>0.082137</td>\n",
       "    </tr>\n",
       "    <tr>\n",
       "      <th>2000-01-11</th>\n",
       "      <td>1.874178</td>\n",
       "      <td>1.001996</td>\n",
       "      <td>1.870445</td>\n",
       "      <td>0.002174</td>\n",
       "      <td>0.001974</td>\n",
       "    </tr>\n",
       "    <tr>\n",
       "      <th>2000-01-12</th>\n",
       "      <td>1.892473</td>\n",
       "      <td>1.002196</td>\n",
       "      <td>1.888326</td>\n",
       "      <td>0.009761</td>\n",
       "      <td>0.009560</td>\n",
       "    </tr>\n",
       "    <tr>\n",
       "      <th>2000-01-13</th>\n",
       "      <td>1.955487</td>\n",
       "      <td>1.002395</td>\n",
       "      <td>1.950814</td>\n",
       "      <td>0.033298</td>\n",
       "      <td>0.033092</td>\n",
       "    </tr>\n",
       "    <tr>\n",
       "      <th>2000-01-14</th>\n",
       "      <td>1.992077</td>\n",
       "      <td>1.002595</td>\n",
       "      <td>1.986920</td>\n",
       "      <td>0.018711</td>\n",
       "      <td>0.018508</td>\n",
       "    </tr>\n",
       "  </tbody>\n",
       "</table>\n",
       "</div>"
      ],
      "text/plain": [
       "               VALE3  IPCA_index  VALE3_real  VALE3_(t)  VALE3_real_(t)\n",
       "2000-01-01       NaN    1.000000         NaN        NaN             NaN\n",
       "2000-01-02       NaN    1.000199         NaN        NaN             NaN\n",
       "2000-01-03  1.707494    1.000399    1.706813        NaN             NaN\n",
       "2000-01-04  1.666840    1.000598    1.665843  -0.023809       -0.024004\n",
       "2000-01-07  1.727822    1.001197    1.725756   0.036585        0.036379\n",
       "2000-01-10  1.870113    1.001796    1.866760   0.082353        0.082137\n",
       "2000-01-11  1.874178    1.001996    1.870445   0.002174        0.001974\n",
       "2000-01-12  1.892473    1.002196    1.888326   0.009761        0.009560\n",
       "2000-01-13  1.955487    1.002395    1.950814   0.033298        0.033092\n",
       "2000-01-14  1.992077    1.002595    1.986920   0.018711        0.018508"
      ]
     },
     "execution_count": 31,
     "metadata": {},
     "output_type": "execute_result"
    }
   ],
   "source": [
    "vale3_.head(10)"
   ]
  },
  {
   "cell_type": "code",
   "execution_count": 32,
   "metadata": {},
   "outputs": [
    {
     "data": {
      "text/html": [
       "<div>\n",
       "<style scoped>\n",
       "    .dataframe tbody tr th:only-of-type {\n",
       "        vertical-align: middle;\n",
       "    }\n",
       "\n",
       "    .dataframe tbody tr th {\n",
       "        vertical-align: top;\n",
       "    }\n",
       "\n",
       "    .dataframe thead th {\n",
       "        text-align: right;\n",
       "    }\n",
       "</style>\n",
       "<table border=\"1\" class=\"dataframe\">\n",
       "  <thead>\n",
       "    <tr style=\"text-align: right;\">\n",
       "      <th></th>\n",
       "      <th>BBAS3</th>\n",
       "      <th>IPCA_index</th>\n",
       "      <th>BBAS3_real</th>\n",
       "      <th>BBAS3_(t)</th>\n",
       "      <th>BBAS3_real_(t)</th>\n",
       "    </tr>\n",
       "  </thead>\n",
       "  <tbody>\n",
       "    <tr>\n",
       "      <th>2000-01-01</th>\n",
       "      <td>NaN</td>\n",
       "      <td>1.000000</td>\n",
       "      <td>NaN</td>\n",
       "      <td>NaN</td>\n",
       "      <td>NaN</td>\n",
       "    </tr>\n",
       "    <tr>\n",
       "      <th>2000-01-02</th>\n",
       "      <td>NaN</td>\n",
       "      <td>1.000199</td>\n",
       "      <td>NaN</td>\n",
       "      <td>NaN</td>\n",
       "      <td>NaN</td>\n",
       "    </tr>\n",
       "    <tr>\n",
       "      <th>2000-01-03</th>\n",
       "      <td>1.176301</td>\n",
       "      <td>1.000399</td>\n",
       "      <td>1.175832</td>\n",
       "      <td>NaN</td>\n",
       "      <td>NaN</td>\n",
       "    </tr>\n",
       "    <tr>\n",
       "      <th>2000-01-04</th>\n",
       "      <td>1.120355</td>\n",
       "      <td>1.000598</td>\n",
       "      <td>1.119685</td>\n",
       "      <td>-0.047561</td>\n",
       "      <td>-0.047751</td>\n",
       "    </tr>\n",
       "    <tr>\n",
       "      <th>2000-01-05</th>\n",
       "      <td>1.131831</td>\n",
       "      <td>1.000798</td>\n",
       "      <td>1.130929</td>\n",
       "      <td>0.010243</td>\n",
       "      <td>0.010042</td>\n",
       "    </tr>\n",
       "    <tr>\n",
       "      <th>2000-01-06</th>\n",
       "      <td>1.147610</td>\n",
       "      <td>1.000997</td>\n",
       "      <td>1.146467</td>\n",
       "      <td>0.013941</td>\n",
       "      <td>0.013739</td>\n",
       "    </tr>\n",
       "    <tr>\n",
       "      <th>2000-01-07</th>\n",
       "      <td>1.121789</td>\n",
       "      <td>1.001197</td>\n",
       "      <td>1.120448</td>\n",
       "      <td>-0.022500</td>\n",
       "      <td>-0.022695</td>\n",
       "    </tr>\n",
       "    <tr>\n",
       "      <th>2000-01-10</th>\n",
       "      <td>1.183474</td>\n",
       "      <td>1.001796</td>\n",
       "      <td>1.181352</td>\n",
       "      <td>0.054988</td>\n",
       "      <td>0.054777</td>\n",
       "    </tr>\n",
       "    <tr>\n",
       "      <th>2000-01-11</th>\n",
       "      <td>1.167693</td>\n",
       "      <td>1.001996</td>\n",
       "      <td>1.165368</td>\n",
       "      <td>-0.013334</td>\n",
       "      <td>-0.013531</td>\n",
       "    </tr>\n",
       "    <tr>\n",
       "      <th>2000-01-12</th>\n",
       "      <td>1.183474</td>\n",
       "      <td>1.002196</td>\n",
       "      <td>1.180881</td>\n",
       "      <td>0.013514</td>\n",
       "      <td>0.013312</td>\n",
       "    </tr>\n",
       "  </tbody>\n",
       "</table>\n",
       "</div>"
      ],
      "text/plain": [
       "               BBAS3  IPCA_index  BBAS3_real  BBAS3_(t)  BBAS3_real_(t)\n",
       "2000-01-01       NaN    1.000000         NaN        NaN             NaN\n",
       "2000-01-02       NaN    1.000199         NaN        NaN             NaN\n",
       "2000-01-03  1.176301    1.000399    1.175832        NaN             NaN\n",
       "2000-01-04  1.120355    1.000598    1.119685  -0.047561       -0.047751\n",
       "2000-01-05  1.131831    1.000798    1.130929   0.010243        0.010042\n",
       "2000-01-06  1.147610    1.000997    1.146467   0.013941        0.013739\n",
       "2000-01-07  1.121789    1.001197    1.120448  -0.022500       -0.022695\n",
       "2000-01-10  1.183474    1.001796    1.181352   0.054988        0.054777\n",
       "2000-01-11  1.167693    1.001996    1.165368  -0.013334       -0.013531\n",
       "2000-01-12  1.183474    1.002196    1.180881   0.013514        0.013312"
      ]
     },
     "execution_count": 32,
     "metadata": {},
     "output_type": "execute_result"
    }
   ],
   "source": [
    "bbas3_.head(10)"
   ]
  },
  {
   "cell_type": "markdown",
   "metadata": {},
   "source": [
    "## Teste de Box-Pierce"
   ]
  },
  {
   "cell_type": "code",
   "execution_count": 33,
   "metadata": {},
   "outputs": [
    {
     "data": {
      "text/html": [
       "<div>\n",
       "<style scoped>\n",
       "    .dataframe tbody tr th:only-of-type {\n",
       "        vertical-align: middle;\n",
       "    }\n",
       "\n",
       "    .dataframe tbody tr th {\n",
       "        vertical-align: top;\n",
       "    }\n",
       "\n",
       "    .dataframe thead th {\n",
       "        text-align: right;\n",
       "    }\n",
       "</style>\n",
       "<table border=\"1\" class=\"dataframe\">\n",
       "  <thead>\n",
       "    <tr style=\"text-align: right;\">\n",
       "      <th></th>\n",
       "      <th>lb_stat</th>\n",
       "      <th>lb_pvalue</th>\n",
       "      <th>bp_stat</th>\n",
       "      <th>bp_pvalue</th>\n",
       "    </tr>\n",
       "  </thead>\n",
       "  <tbody>\n",
       "    <tr>\n",
       "      <th>5</th>\n",
       "      <td>12.309840</td>\n",
       "      <td>0.030780</td>\n",
       "      <td>12.300000</td>\n",
       "      <td>0.030900</td>\n",
       "    </tr>\n",
       "    <tr>\n",
       "      <th>22</th>\n",
       "      <td>51.746035</td>\n",
       "      <td>0.000339</td>\n",
       "      <td>51.625782</td>\n",
       "      <td>0.000352</td>\n",
       "    </tr>\n",
       "    <tr>\n",
       "      <th>126</th>\n",
       "      <td>185.078353</td>\n",
       "      <td>0.000481</td>\n",
       "      <td>183.121165</td>\n",
       "      <td>0.000675</td>\n",
       "    </tr>\n",
       "    <tr>\n",
       "      <th>252</th>\n",
       "      <td>307.170332</td>\n",
       "      <td>0.009976</td>\n",
       "      <td>300.922045</td>\n",
       "      <td>0.018695</td>\n",
       "    </tr>\n",
       "    <tr>\n",
       "      <th>504</th>\n",
       "      <td>544.573586</td>\n",
       "      <td>0.102749</td>\n",
       "      <td>522.146349</td>\n",
       "      <td>0.279013</td>\n",
       "    </tr>\n",
       "  </tbody>\n",
       "</table>\n",
       "</div>"
      ],
      "text/plain": [
       "        lb_stat  lb_pvalue     bp_stat  bp_pvalue\n",
       "5     12.309840   0.030780   12.300000   0.030900\n",
       "22    51.746035   0.000339   51.625782   0.000352\n",
       "126  185.078353   0.000481  183.121165   0.000675\n",
       "252  307.170332   0.009976  300.922045   0.018695\n",
       "504  544.573586   0.102749  522.146349   0.279013"
      ]
     },
     "execution_count": 33,
     "metadata": {},
     "output_type": "execute_result"
    }
   ],
   "source": [
    "import statsmodels.api as sm\n",
    "sm.stats.acorr_ljungbox(ibov_['IBOV_(t)'].dropna(), lags=[5,22,126,252,504], boxpierce=True)"
   ]
  },
  {
   "cell_type": "markdown",
   "metadata": {},
   "source": [
    "O teste de Box Pierce contém como hipótese nula que os dados, nesse caso os retornos diários do Ibovespa, são independentemente distribuídos não contendo autocorrelação, enquanto a hipótese alternativa representa que os dados contém autocorrelação com cada defasagem (os lags do código).\n",
    "\n",
    "Verificamos nos resultados que a correlação dos retornos do Ibovespa diário com a defasagem de uma semana representa um p-value de 0.03, isto é, em um teste com significância de 5%, rejeitaríamos a hipótese nula do teste, indicando que a série temporal contém autocorrelação com uma semana de defasagem. Enquanto que se a significância fosse de 1%, a hipótese nula não seria rejeitada indicando séries independentemente distribuídas. Esse caso é o mesmo quando trabalhamos com a defasagem de um ano (lag = 252) apresentando um p-value de 0.02 aproximadamente. Para as defasagens de um mês (lag = 22) e de um semestre (lag = 126) os p-values obtidos foram ambos abaixo de 0.01. Isso significa que em até um teste com 1% de significância a hipótese nula de distribuição independente seria rejeitada, nesse caso haveria autocorrelação. O último caso, é quando a série é defasada em dois anos  (lag = 504). Com um p-value de 0.28, qualquer teste com valores usuais de significância não seria rejeitado, indicando independência na distribuição dos dados."
   ]
  },
  {
   "cell_type": "code",
   "execution_count": 34,
   "metadata": {},
   "outputs": [
    {
     "data": {
      "text/html": [
       "<div>\n",
       "<style scoped>\n",
       "    .dataframe tbody tr th:only-of-type {\n",
       "        vertical-align: middle;\n",
       "    }\n",
       "\n",
       "    .dataframe tbody tr th {\n",
       "        vertical-align: top;\n",
       "    }\n",
       "\n",
       "    .dataframe thead th {\n",
       "        text-align: right;\n",
       "    }\n",
       "</style>\n",
       "<table border=\"1\" class=\"dataframe\">\n",
       "  <thead>\n",
       "    <tr style=\"text-align: right;\">\n",
       "      <th></th>\n",
       "      <th>lb_stat</th>\n",
       "      <th>lb_pvalue</th>\n",
       "      <th>bp_stat</th>\n",
       "      <th>bp_pvalue</th>\n",
       "    </tr>\n",
       "  </thead>\n",
       "  <tbody>\n",
       "    <tr>\n",
       "      <th>5</th>\n",
       "      <td>12.197322</td>\n",
       "      <td>0.032182</td>\n",
       "      <td>12.187566</td>\n",
       "      <td>0.032306</td>\n",
       "    </tr>\n",
       "    <tr>\n",
       "      <th>22</th>\n",
       "      <td>51.690587</td>\n",
       "      <td>0.000345</td>\n",
       "      <td>51.570219</td>\n",
       "      <td>0.000358</td>\n",
       "    </tr>\n",
       "    <tr>\n",
       "      <th>126</th>\n",
       "      <td>184.635374</td>\n",
       "      <td>0.000520</td>\n",
       "      <td>182.682411</td>\n",
       "      <td>0.000728</td>\n",
       "    </tr>\n",
       "    <tr>\n",
       "      <th>252</th>\n",
       "      <td>306.514204</td>\n",
       "      <td>0.010679</td>\n",
       "      <td>300.280228</td>\n",
       "      <td>0.019889</td>\n",
       "    </tr>\n",
       "    <tr>\n",
       "      <th>504</th>\n",
       "      <td>544.020897</td>\n",
       "      <td>0.105740</td>\n",
       "      <td>521.605433</td>\n",
       "      <td>0.284634</td>\n",
       "    </tr>\n",
       "  </tbody>\n",
       "</table>\n",
       "</div>"
      ],
      "text/plain": [
       "        lb_stat  lb_pvalue     bp_stat  bp_pvalue\n",
       "5     12.197322   0.032182   12.187566   0.032306\n",
       "22    51.690587   0.000345   51.570219   0.000358\n",
       "126  184.635374   0.000520  182.682411   0.000728\n",
       "252  306.514204   0.010679  300.280228   0.019889\n",
       "504  544.020897   0.105740  521.605433   0.284634"
      ]
     },
     "execution_count": 34,
     "metadata": {},
     "output_type": "execute_result"
    }
   ],
   "source": [
    "sm.stats.acorr_ljungbox(ibov_['IBOV_real_(t)'].dropna(), lags=[5,22,126,252,504], boxpierce=True)"
   ]
  },
  {
   "cell_type": "markdown",
   "metadata": {},
   "source": [
    "Para a série dos retornos diários do Ibovespa Real os resultados não foram muito distintos em comparação à série em valores nominais. De forma mais sucinta:\n",
    "\n",
    "* Defasagem semanal: p-value = 0.03 > 0.01 = $\\alpha$. Não rejeita-se a hipótese nula de distribuição independente.\n",
    "* Defasagem mensal: p-value = 0.0003 < 0.01 = $\\alpha$. Rejeita-se a hipótese nula de distribuição independente, indicando autocorrelação.\n",
    "* Defasagem semestral: p-value = 0.0007 < 0.01 = $\\alpha$. Rejeita-se a hipótese nula de distribuição independente, indicando autocorrelação.\n",
    "* Defasagem anual: p-value = 0.02 > 0.01 = $\\alpha$. Não rejeita-se a hipótese nula de distribuição independente.\n",
    "* Defasagem de dois anos: p-value = 0.28 > 0.01 = $\\alpha$. Não rejeita-se a hipótese nula de distribuição independente."
   ]
  },
  {
   "cell_type": "code",
   "execution_count": 35,
   "metadata": {},
   "outputs": [
    {
     "data": {
      "text/html": [
       "<div>\n",
       "<style scoped>\n",
       "    .dataframe tbody tr th:only-of-type {\n",
       "        vertical-align: middle;\n",
       "    }\n",
       "\n",
       "    .dataframe tbody tr th {\n",
       "        vertical-align: top;\n",
       "    }\n",
       "\n",
       "    .dataframe thead th {\n",
       "        text-align: right;\n",
       "    }\n",
       "</style>\n",
       "<table border=\"1\" class=\"dataframe\">\n",
       "  <thead>\n",
       "    <tr style=\"text-align: right;\">\n",
       "      <th></th>\n",
       "      <th>lb_stat</th>\n",
       "      <th>lb_pvalue</th>\n",
       "      <th>bp_stat</th>\n",
       "      <th>bp_pvalue</th>\n",
       "    </tr>\n",
       "  </thead>\n",
       "  <tbody>\n",
       "    <tr>\n",
       "      <th>5</th>\n",
       "      <td>28.424672</td>\n",
       "      <td>0.000030</td>\n",
       "      <td>28.400658</td>\n",
       "      <td>0.000030</td>\n",
       "    </tr>\n",
       "    <tr>\n",
       "      <th>22</th>\n",
       "      <td>63.594667</td>\n",
       "      <td>0.000006</td>\n",
       "      <td>63.475494</td>\n",
       "      <td>0.000007</td>\n",
       "    </tr>\n",
       "    <tr>\n",
       "      <th>126</th>\n",
       "      <td>187.989504</td>\n",
       "      <td>0.000288</td>\n",
       "      <td>186.225450</td>\n",
       "      <td>0.000394</td>\n",
       "    </tr>\n",
       "    <tr>\n",
       "      <th>252</th>\n",
       "      <td>328.955164</td>\n",
       "      <td>0.000791</td>\n",
       "      <td>322.108545</td>\n",
       "      <td>0.001855</td>\n",
       "    </tr>\n",
       "    <tr>\n",
       "      <th>504</th>\n",
       "      <td>570.513351</td>\n",
       "      <td>0.021173</td>\n",
       "      <td>547.410703</td>\n",
       "      <td>0.088385</td>\n",
       "    </tr>\n",
       "  </tbody>\n",
       "</table>\n",
       "</div>"
      ],
      "text/plain": [
       "        lb_stat  lb_pvalue     bp_stat  bp_pvalue\n",
       "5     28.424672   0.000030   28.400658   0.000030\n",
       "22    63.594667   0.000006   63.475494   0.000007\n",
       "126  187.989504   0.000288  186.225450   0.000394\n",
       "252  328.955164   0.000791  322.108545   0.001855\n",
       "504  570.513351   0.021173  547.410703   0.088385"
      ]
     },
     "execution_count": 35,
     "metadata": {},
     "output_type": "execute_result"
    }
   ],
   "source": [
    "sm.stats.acorr_ljungbox(vale3_['VALE3_(t)'].dropna(), lags=[5,22,126,252,504], boxpierce=True)"
   ]
  },
  {
   "cell_type": "markdown",
   "metadata": {},
   "source": [
    "Para a série dos retornos diários das ações preferenciais da Vale em valores nominais, temos:\n",
    "\n",
    "* Defasagem semanal: p-value = 0.00003 < 0.01 = $\\alpha$. Rejeita-se a hipótese nula de distribuição independente, indicando autocorrelação.\n",
    "* Defasagem mensal: p-value = 0.000007 < 0.01 = $\\alpha$. Rejeita-se a hipótese nula de distribuição independente, indicando autocorrelação.\n",
    "* Defasagem semestral: p-value = 0.0007 < 0.01 = $\\alpha$. Rejeita-se a hipótese nula de distribuição independente, indicando autocorrelação.\n",
    "* Defasagem anual: p-value = 0.0018 < 0.01 = $\\alpha$. Rejeita-se a hipótese nula de distribuição independente, indicando autocorrelação.\n",
    "* Defasagem de dois anos: p-value = 0.088 > 0.01 = $\\alpha$. Não rejeita-se a hipótese nula de distribuição independente."
   ]
  },
  {
   "cell_type": "code",
   "execution_count": 36,
   "metadata": {},
   "outputs": [
    {
     "data": {
      "text/html": [
       "<div>\n",
       "<style scoped>\n",
       "    .dataframe tbody tr th:only-of-type {\n",
       "        vertical-align: middle;\n",
       "    }\n",
       "\n",
       "    .dataframe tbody tr th {\n",
       "        vertical-align: top;\n",
       "    }\n",
       "\n",
       "    .dataframe thead th {\n",
       "        text-align: right;\n",
       "    }\n",
       "</style>\n",
       "<table border=\"1\" class=\"dataframe\">\n",
       "  <thead>\n",
       "    <tr style=\"text-align: right;\">\n",
       "      <th></th>\n",
       "      <th>lb_stat</th>\n",
       "      <th>lb_pvalue</th>\n",
       "      <th>bp_stat</th>\n",
       "      <th>bp_pvalue</th>\n",
       "    </tr>\n",
       "  </thead>\n",
       "  <tbody>\n",
       "    <tr>\n",
       "      <th>5</th>\n",
       "      <td>28.247046</td>\n",
       "      <td>0.000033</td>\n",
       "      <td>28.223197</td>\n",
       "      <td>0.000033</td>\n",
       "    </tr>\n",
       "    <tr>\n",
       "      <th>22</th>\n",
       "      <td>63.383576</td>\n",
       "      <td>0.000007</td>\n",
       "      <td>63.264707</td>\n",
       "      <td>0.000007</td>\n",
       "    </tr>\n",
       "    <tr>\n",
       "      <th>126</th>\n",
       "      <td>187.754949</td>\n",
       "      <td>0.000300</td>\n",
       "      <td>185.992135</td>\n",
       "      <td>0.000410</td>\n",
       "    </tr>\n",
       "    <tr>\n",
       "      <th>252</th>\n",
       "      <td>328.772717</td>\n",
       "      <td>0.000809</td>\n",
       "      <td>321.925872</td>\n",
       "      <td>0.001896</td>\n",
       "    </tr>\n",
       "    <tr>\n",
       "      <th>504</th>\n",
       "      <td>570.462824</td>\n",
       "      <td>0.021248</td>\n",
       "      <td>547.350519</td>\n",
       "      <td>0.088673</td>\n",
       "    </tr>\n",
       "  </tbody>\n",
       "</table>\n",
       "</div>"
      ],
      "text/plain": [
       "        lb_stat  lb_pvalue     bp_stat  bp_pvalue\n",
       "5     28.247046   0.000033   28.223197   0.000033\n",
       "22    63.383576   0.000007   63.264707   0.000007\n",
       "126  187.754949   0.000300  185.992135   0.000410\n",
       "252  328.772717   0.000809  321.925872   0.001896\n",
       "504  570.462824   0.021248  547.350519   0.088673"
      ]
     },
     "execution_count": 36,
     "metadata": {},
     "output_type": "execute_result"
    }
   ],
   "source": [
    "sm.stats.acorr_ljungbox(vale3_['VALE3_real_(t)'].dropna(), lags=[5,22,126,252,504], boxpierce=True)"
   ]
  },
  {
   "cell_type": "markdown",
   "metadata": {},
   "source": [
    "Para a série dos retornos diários das ações preferenciais da Vale em valores reais, temos:\n",
    "\n",
    "* Defasagem semanal: p-value = 0.00003 < 0.01 = $\\alpha$. Rejeita-se a hipótese nula de distribuição independente, indicando autocorrelação.\n",
    "* Defasagem mensal: p-value = 0.000007 < 0.01 = $\\alpha$. Rejeita-se a hipótese nula de distribuição independente, indicando autocorrelação.\n",
    "* Defasagem semestral: p-value = 0.00041 < 0.01 = $\\alpha$. Rejeita-se a hipótese nula de distribuição independente, indicando autocorrelação.\n",
    "* Defasagem anual: p-value = 0.00188 < 0.01 = $\\alpha$. Rejeita-se a hipótese nula de distribuição independente, indicando autocorrelação.\n",
    "* Defasagem de dois anos: p-value = 0.089 > 0.01 = $\\alpha$. Não rejeita-se a hipótese nula de distribuição independente."
   ]
  },
  {
   "cell_type": "code",
   "execution_count": 37,
   "metadata": {},
   "outputs": [
    {
     "data": {
      "text/html": [
       "<div>\n",
       "<style scoped>\n",
       "    .dataframe tbody tr th:only-of-type {\n",
       "        vertical-align: middle;\n",
       "    }\n",
       "\n",
       "    .dataframe tbody tr th {\n",
       "        vertical-align: top;\n",
       "    }\n",
       "\n",
       "    .dataframe thead th {\n",
       "        text-align: right;\n",
       "    }\n",
       "</style>\n",
       "<table border=\"1\" class=\"dataframe\">\n",
       "  <thead>\n",
       "    <tr style=\"text-align: right;\">\n",
       "      <th></th>\n",
       "      <th>lb_stat</th>\n",
       "      <th>lb_pvalue</th>\n",
       "      <th>bp_stat</th>\n",
       "      <th>bp_pvalue</th>\n",
       "    </tr>\n",
       "  </thead>\n",
       "  <tbody>\n",
       "    <tr>\n",
       "      <th>5</th>\n",
       "      <td>7.046723</td>\n",
       "      <td>0.217189</td>\n",
       "      <td>7.040323</td>\n",
       "      <td>0.217659</td>\n",
       "    </tr>\n",
       "    <tr>\n",
       "      <th>22</th>\n",
       "      <td>33.654111</td>\n",
       "      <td>0.053246</td>\n",
       "      <td>33.579159</td>\n",
       "      <td>0.054178</td>\n",
       "    </tr>\n",
       "    <tr>\n",
       "      <th>126</th>\n",
       "      <td>145.284487</td>\n",
       "      <td>0.115198</td>\n",
       "      <td>143.865226</td>\n",
       "      <td>0.131835</td>\n",
       "    </tr>\n",
       "    <tr>\n",
       "      <th>252</th>\n",
       "      <td>272.990327</td>\n",
       "      <td>0.173681</td>\n",
       "      <td>267.023236</td>\n",
       "      <td>0.246391</td>\n",
       "    </tr>\n",
       "    <tr>\n",
       "      <th>504</th>\n",
       "      <td>548.674040</td>\n",
       "      <td>0.082508</td>\n",
       "      <td>524.903611</td>\n",
       "      <td>0.251288</td>\n",
       "    </tr>\n",
       "  </tbody>\n",
       "</table>\n",
       "</div>"
      ],
      "text/plain": [
       "        lb_stat  lb_pvalue     bp_stat  bp_pvalue\n",
       "5      7.046723   0.217189    7.040323   0.217659\n",
       "22    33.654111   0.053246   33.579159   0.054178\n",
       "126  145.284487   0.115198  143.865226   0.131835\n",
       "252  272.990327   0.173681  267.023236   0.246391\n",
       "504  548.674040   0.082508  524.903611   0.251288"
      ]
     },
     "execution_count": 37,
     "metadata": {},
     "output_type": "execute_result"
    }
   ],
   "source": [
    "sm.stats.acorr_ljungbox(bbas3_['BBAS3_(t)'].dropna(), lags=[5,22,126,252,504], boxpierce=True)"
   ]
  },
  {
   "cell_type": "markdown",
   "metadata": {},
   "source": [
    "Para a série dos retornos diários das ações preferenciais da Vale em valores reais, temos:\n",
    "\n",
    "* Defasagem semanal: p-value = 0.22 > 0.01 = $\\alpha$. Não rejeita-se a hipótese nula de distribuição independente.\n",
    "* Defasagem mensal: p-value = 0.05 > 0.01 = $\\alpha$. Não rejeita-se a hipótese nula de distribuição independente.\n",
    "* Defasagem semestral: p-value = 0.13 > 0.01 = $\\alpha$. Não rejeita-se a hipótese nula de distribuição independente.\n",
    "* Defasagem anual: p-value = 0.245 > 0.01 = $\\alpha$. Não rejeita-se a hipótese nula de distribuição independente.\n",
    "* Defasagem de dois anos: p-value = 0.249 > 0.01 = $\\alpha$. Não rejeita-se a hipótese nula de distribuição independente."
   ]
  },
  {
   "cell_type": "markdown",
   "metadata": {},
   "source": [
    "## Variance Ratio Statistics (Lo and MacKinlay (1988))"
   ]
  },
  {
   "cell_type": "markdown",
   "metadata": {},
   "source": [
    "O primeiro passo para conseguir fazer o teste de razão de variância de Lo and MacKinlay, é criar variáveis com os retornos semanais, mensais, semestrais, anuais e de dois anos."
   ]
  },
  {
   "cell_type": "code",
   "execution_count": 38,
   "metadata": {},
   "outputs": [],
   "source": [
    "# Nominal\n",
    "ibov_['IBOV_(t-5)'] = ((ibov_['IBOV'] - ibov_['IBOV'].shift(5))/ibov_['IBOV'].shift(5))\n",
    "\n",
    "vale3_['VALE3_(t-5)'] = ((vale3_['VALE3'] - vale3_['VALE3'].shift(5))/vale3_['VALE3'].shift(5))\n",
    "\n",
    "bbas3_['BBAS3_(t-5)'] = ((bbas3_['BBAS3'] - bbas3_['BBAS3'].shift(5))/bbas3_['BBAS3'].shift(5))\n",
    "\n",
    "# Real\n",
    "ibov_['IBOV_real_(t-5)'] = ((ibov_['IBOV_real'] - ibov_['IBOV_real'].shift(5))/ibov_['IBOV_real'].shift(5))\n",
    "\n",
    "vale3_['VALE3_real_(t-5)'] = ((vale3_['VALE3_real'] - vale3_['VALE3_real'].shift(5))/vale3_['VALE3_real'].shift(5))\n",
    "\n",
    "bbas3_['BBAS3_real_(t-5)'] = ((bbas3_['BBAS3_real'] - bbas3_['BBAS3_real'].shift(5))/bbas3_['BBAS3_real'].shift(5))"
   ]
  },
  {
   "cell_type": "code",
   "execution_count": 39,
   "metadata": {},
   "outputs": [],
   "source": [
    "# Nominal\n",
    "ibov_['IBOV_(t-22)'] = ((ibov_['IBOV'] - ibov_['IBOV'].shift(22))/ibov_['IBOV'].shift(22))\n",
    "\n",
    "vale3_['VALE3_(t-22)'] = ((vale3_['VALE3'] - vale3_['VALE3'].shift(22))/vale3_['VALE3'].shift(22))\n",
    "\n",
    "bbas3_['BBAS3_(t-22)'] = ((bbas3_['BBAS3'] - bbas3_['BBAS3'].shift(22))/bbas3_['BBAS3'].shift(22))\n",
    "\n",
    "# Real\n",
    "ibov_['IBOV_real_(t-22)'] = ((ibov_['IBOV_real'] - ibov_['IBOV_real'].shift(22))/ibov_['IBOV_real'].shift(22))\n",
    "\n",
    "vale3_['VALE3_real_(t-22)'] = ((vale3_['VALE3_real'] - vale3_['VALE3_real'].shift(22))/vale3_['VALE3_real'].shift(22))\n",
    "\n",
    "bbas3_['BBAS3_real_(t-22)'] = ((bbas3_['BBAS3_real'] - bbas3_['BBAS3_real'].shift(22))/bbas3_['BBAS3_real'].shift(22))"
   ]
  },
  {
   "cell_type": "code",
   "execution_count": 40,
   "metadata": {},
   "outputs": [],
   "source": [
    "# Nominal\n",
    "ibov_['IBOV_(t-126)'] = ((ibov_['IBOV'] - ibov_['IBOV'].shift(126))/ibov_['IBOV'].shift(126))\n",
    "\n",
    "vale3_['VALE3_(t-126)'] = ((vale3_['VALE3'] - vale3_['VALE3'].shift(126))/vale3_['VALE3'].shift(126))\n",
    "\n",
    "bbas3_['BBAS3_(t-126)'] = ((bbas3_['BBAS3'] - bbas3_['BBAS3'].shift(126))/bbas3_['BBAS3'].shift(126))\n",
    "\n",
    "# Real\n",
    "ibov_['IBOV_real_(t-126)'] = ((ibov_['IBOV_real'] - ibov_['IBOV_real'].shift(126))/ibov_['IBOV_real'].shift(126))\n",
    "\n",
    "vale3_['VALE3_real_(t-126)'] = ((vale3_['VALE3_real'] - vale3_['VALE3_real'].shift(126))/vale3_['VALE3_real'].shift(126))\n",
    "\n",
    "bbas3_['BBAS3_real_(t-126)'] = ((bbas3_['BBAS3_real'] - bbas3_['BBAS3_real'].shift(126))/bbas3_['BBAS3_real'].shift(126))"
   ]
  },
  {
   "cell_type": "code",
   "execution_count": 41,
   "metadata": {},
   "outputs": [],
   "source": [
    "# Nominal\n",
    "ibov_['IBOV_(t-252)'] = ((ibov_['IBOV'] - ibov_['IBOV'].shift(252))/ibov_['IBOV'].shift(252))\n",
    "\n",
    "vale3_['VALE3_(t-252)'] = ((vale3_['VALE3'] - vale3_['VALE3'].shift(252))/vale3_['VALE3'].shift(252))\n",
    "\n",
    "bbas3_['BBAS3_(t-252)'] = ((bbas3_['BBAS3'] - bbas3_['BBAS3'].shift(252))/bbas3_['BBAS3'].shift(252))\n",
    "\n",
    "# Real\n",
    "ibov_['IBOV_real_(t-252)'] = ((ibov_['IBOV_real'] - ibov_['IBOV_real'].shift(252))/ibov_['IBOV_real'].shift(252))\n",
    "\n",
    "vale3_['VALE3_real_(t-252)'] = ((vale3_['VALE3_real'] - vale3_['VALE3_real'].shift(252))/vale3_['VALE3_real'].shift(252))\n",
    "\n",
    "bbas3_['BBAS3_real_(t-252)'] = ((bbas3_['BBAS3_real'] - bbas3_['BBAS3_real'].shift(252))/bbas3_['BBAS3_real'].shift(252))"
   ]
  },
  {
   "cell_type": "code",
   "execution_count": 42,
   "metadata": {},
   "outputs": [],
   "source": [
    "# Nominal\n",
    "ibov_['IBOV_(t-504)'] = ((ibov_['IBOV'] - ibov_['IBOV'].shift(504))/ibov_['IBOV'].shift(504))\n",
    "\n",
    "vale3_['VALE3_(t-504)'] = ((vale3_['VALE3'] - vale3_['VALE3'].shift(504))/vale3_['VALE3'].shift(504))\n",
    "\n",
    "bbas3_['BBAS3_(t-504)'] = ((bbas3_['BBAS3'] - bbas3_['BBAS3'].shift(504))/bbas3_['BBAS3'].shift(504))\n",
    "\n",
    "# Real\n",
    "ibov_['IBOV_real_(t-504)'] = ((ibov_['IBOV_real'] - ibov_['IBOV_real'].shift(504))/ibov_['IBOV_real'].shift(504))\n",
    "\n",
    "vale3_['VALE3_real_(t-504)'] = ((vale3_['VALE3_real'] - vale3_['VALE3_real'].shift(504))/vale3_['VALE3_real'].shift(504))\n",
    "\n",
    "bbas3_['BBAS3_real_(t-504)'] = ((bbas3_['BBAS3_real'] - bbas3_['BBAS3_real'].shift(504))/bbas3_['BBAS3_real'].shift(504))"
   ]
  },
  {
   "cell_type": "markdown",
   "metadata": {},
   "source": [
    "A hipótese nula do teste de hipótese é que as séries são independentemente distribuídas."
   ]
  },
  {
   "cell_type": "markdown",
   "metadata": {},
   "source": [
    "Vamos criar dataframes para avaliar se rejeitamos ou não a hipótese nula. Para isso, o dataframe a ser criado deve conter as colunas de variância da série, o valor k, a Variance Ratio, a variância da Variance Ratio, o desvio padrão da Variance Ratio, a estatística, o p-value e por fim o resultado se rejeita ou não a hipótese nula."
   ]
  },
  {
   "cell_type": "code",
   "execution_count": 44,
   "metadata": {},
   "outputs": [],
   "source": [
    "columns = ['Variance', 'k', 'Variance Ratio (VR)', 'Variance of VR', 'Standard Deviation of VR', 'Statistic', 'p-value', 'Reject null hypothesis']\n",
    "index = ['IBOV_(t)', 'IBOV_(t-5)', 'IBOV_(t-22)', 'IBOV_(t-126)', 'IBOV_(t-252)', 'IBOV_(t-504)']\n",
    "ibov_VR = pd.DataFrame(np.nan, index, columns)"
   ]
  },
  {
   "cell_type": "code",
   "execution_count": 45,
   "metadata": {},
   "outputs": [],
   "source": [
    "index = ['IBOV_real_(t)', 'IBOV_real_(t-5)', 'IBOV_real_(t-22)', 'IBOV_real_(t-126)', 'IBOV_real_(t-252)', 'IBOV_real_(t-504)']\n",
    "ibov_real_VR = pd.DataFrame(np.nan, index, columns)"
   ]
  },
  {
   "cell_type": "code",
   "execution_count": 46,
   "metadata": {},
   "outputs": [],
   "source": [
    "index = ['VALE3_(t)', 'VALE3_(t-5)', 'VALE3_(t-22)', 'VALE3_(t-126)', 'VALE3_(t-252)', 'VALE3_(t-504)']\n",
    "vale_VR = pd.DataFrame(np.nan, index, columns)"
   ]
  },
  {
   "cell_type": "code",
   "execution_count": 47,
   "metadata": {},
   "outputs": [],
   "source": [
    "index = ['VALE3_real_(t)', 'VALE3_real_(t-5)', 'VALE3_real_(t-22)', 'VALE3_real_(t-126)', 'VALE3_real_(t-252)', 'VALE3_real_(t-504)']\n",
    "vale_real_VR = pd.DataFrame(np.nan, index, columns)"
   ]
  },
  {
   "cell_type": "code",
   "execution_count": 48,
   "metadata": {},
   "outputs": [],
   "source": [
    "index = ['BBAS3_(t)', 'BBAS3_(t-5)', 'BBAS3_(t-22)', 'BBAS3_(t-126)', 'BBAS3_(t-252)', 'BBAS3_(t-504)']\n",
    "bbas_VR = pd.DataFrame(np.nan, index, columns)"
   ]
  },
  {
   "cell_type": "code",
   "execution_count": 49,
   "metadata": {},
   "outputs": [],
   "source": [
    "index = ['BBAS3_real_(t)', 'BBAS3_real_(t-5)', 'BBAS3_real_(t-22)', 'BBAS3_real_(t-126)', 'BBAS3_real_(t-252)', 'BBAS3_real_(t-504)']\n",
    "bbas_real_VR = pd.DataFrame(np.nan, index, columns)"
   ]
  },
  {
   "cell_type": "markdown",
   "metadata": {},
   "source": [
    "Precisamos então, calcular as variâncias de cada série e adicionar o valor k."
   ]
  },
  {
   "cell_type": "code",
   "execution_count": 50,
   "metadata": {},
   "outputs": [],
   "source": [
    "# Variância Ibovespa Nominal\n",
    "ibov_VR['Variance'].iloc[0] = np.var(ibov_['IBOV_(t)'])\n",
    "ibov_VR['Variance'].iloc[1] = np.var(ibov_['IBOV_(t-5)'])\n",
    "ibov_VR['Variance'].iloc[2] = np.var(ibov_['IBOV_(t-22)'])\n",
    "ibov_VR['Variance'].iloc[3] = np.var(ibov_['IBOV_(t-126)'])\n",
    "ibov_VR['Variance'].iloc[4] = np.var(ibov_['IBOV_(t-252)'])\n",
    "ibov_VR['Variance'].iloc[5] = np.var(ibov_['IBOV_(t-504)'])\n",
    "\n",
    "ibov_VR['k'].iloc[0] = 0\n",
    "ibov_VR['k'].iloc[1] = 5\n",
    "ibov_VR['k'].iloc[2] = 22\n",
    "ibov_VR['k'].iloc[3] = 126\n",
    "ibov_VR['k'].iloc[4] = 252\n",
    "ibov_VR['k'].iloc[5] = 504"
   ]
  },
  {
   "cell_type": "code",
   "execution_count": 51,
   "metadata": {},
   "outputs": [],
   "source": [
    "# Variância Ibovespa Real\n",
    "ibov_real_VR['Variance'].iloc[0] = np.var(ibov_['IBOV_real_(t)'])\n",
    "ibov_real_VR['Variance'].iloc[1] = np.var(ibov_['IBOV_real_(t-5)'])\n",
    "ibov_real_VR['Variance'].iloc[2] = np.var(ibov_['IBOV_real_(t-22)'])\n",
    "ibov_real_VR['Variance'].iloc[3] = np.var(ibov_['IBOV_real_(t-126)'])\n",
    "ibov_real_VR['Variance'].iloc[4] = np.var(ibov_['IBOV_real_(t-252)'])\n",
    "ibov_real_VR['Variance'].iloc[5] = np.var(ibov_['IBOV_real_(t-504)'])\n",
    "\n",
    "ibov_real_VR['k'].iloc[0] = 0\n",
    "ibov_real_VR['k'].iloc[1] = 5\n",
    "ibov_real_VR['k'].iloc[2] = 22\n",
    "ibov_real_VR['k'].iloc[3] = 126\n",
    "ibov_real_VR['k'].iloc[4] = 252\n",
    "ibov_real_VR['k'].iloc[5] = 504"
   ]
  },
  {
   "cell_type": "code",
   "execution_count": 52,
   "metadata": {},
   "outputs": [],
   "source": [
    "# Variância VALE3 Nominal\n",
    "vale_VR['Variance'].iloc[0] = np.var(vale3_['VALE3_(t)'])\n",
    "vale_VR['Variance'].iloc[1] = np.var(vale3_['VALE3_(t-5)'])\n",
    "vale_VR['Variance'].iloc[2] = np.var(vale3_['VALE3_(t-22)'])\n",
    "vale_VR['Variance'].iloc[3] = np.var(vale3_['VALE3_(t-126)'])\n",
    "vale_VR['Variance'].iloc[4] = np.var(vale3_['VALE3_(t-252)'])\n",
    "vale_VR['Variance'].iloc[5] = np.var(vale3_['VALE3_(t-504)'])\n",
    "\n",
    "vale_VR['k'].iloc[0] = 0\n",
    "vale_VR['k'].iloc[1] = 5\n",
    "vale_VR['k'].iloc[2] = 22\n",
    "vale_VR['k'].iloc[3] = 126\n",
    "vale_VR['k'].iloc[4] = 252\n",
    "vale_VR['k'].iloc[5] = 504"
   ]
  },
  {
   "cell_type": "code",
   "execution_count": 53,
   "metadata": {},
   "outputs": [],
   "source": [
    "# Variância VALE3 Real\n",
    "vale_real_VR['Variance'].iloc[0] = np.var(vale3_['VALE3_real_(t)'])\n",
    "vale_real_VR['Variance'].iloc[1] = np.var(vale3_['VALE3_real_(t-5)'])\n",
    "vale_real_VR['Variance'].iloc[2] = np.var(vale3_['VALE3_real_(t-22)'])\n",
    "vale_real_VR['Variance'].iloc[3] = np.var(vale3_['VALE3_real_(t-126)'])\n",
    "vale_real_VR['Variance'].iloc[4] = np.var(vale3_['VALE3_real_(t-252)'])\n",
    "vale_real_VR['Variance'].iloc[5] = np.var(vale3_['VALE3_real_(t-504)'])\n",
    "\n",
    "vale_real_VR['k'].iloc[0] = 0\n",
    "vale_real_VR['k'].iloc[1] = 5\n",
    "vale_real_VR['k'].iloc[2] = 22\n",
    "vale_real_VR['k'].iloc[3] = 126\n",
    "vale_real_VR['k'].iloc[4] = 252\n",
    "vale_real_VR['k'].iloc[5] = 504"
   ]
  },
  {
   "cell_type": "code",
   "execution_count": 54,
   "metadata": {},
   "outputs": [],
   "source": [
    "# Variância BBAS3 Nominal\n",
    "bbas_VR['Variance'].iloc[0] = np.var(bbas3_['BBAS3_(t)'])\n",
    "bbas_VR['Variance'].iloc[1] = np.var(bbas3_['BBAS3_(t-5)'])\n",
    "bbas_VR['Variance'].iloc[2] = np.var(bbas3_['BBAS3_(t-22)'])\n",
    "bbas_VR['Variance'].iloc[3] = np.var(bbas3_['BBAS3_(t-126)'])\n",
    "bbas_VR['Variance'].iloc[4] = np.var(bbas3_['BBAS3_(t-252)'])\n",
    "bbas_VR['Variance'].iloc[5] = np.var(bbas3_['BBAS3_(t-504)'])\n",
    "\n",
    "bbas_VR['k'].iloc[0] = 0\n",
    "bbas_VR['k'].iloc[1] = 5\n",
    "bbas_VR['k'].iloc[2] = 22\n",
    "bbas_VR['k'].iloc[3] = 126\n",
    "bbas_VR['k'].iloc[4] = 252\n",
    "bbas_VR['k'].iloc[5] = 504"
   ]
  },
  {
   "cell_type": "code",
   "execution_count": 55,
   "metadata": {},
   "outputs": [],
   "source": [
    "# Variância BBAS3 Real\n",
    "bbas_real_VR['Variance'].iloc[0] = np.var(bbas3_['BBAS3_real_(t)'])\n",
    "bbas_real_VR['Variance'].iloc[1] = np.var(bbas3_['BBAS3_real_(t-5)'])\n",
    "bbas_real_VR['Variance'].iloc[2] = np.var(bbas3_['BBAS3_real_(t-22)'])\n",
    "bbas_real_VR['Variance'].iloc[3] = np.var(bbas3_['BBAS3_real_(t-126)'])\n",
    "bbas_real_VR['Variance'].iloc[4] = np.var(bbas3_['BBAS3_real_(t-252)'])\n",
    "bbas_real_VR['Variance'].iloc[5] = np.var(bbas3_['BBAS3_real_(t-504)'])\n",
    "\n",
    "bbas_real_VR['k'].iloc[0] = 0\n",
    "bbas_real_VR['k'].iloc[1] = 5\n",
    "bbas_real_VR['k'].iloc[2] = 22\n",
    "bbas_real_VR['k'].iloc[3] = 126\n",
    "bbas_real_VR['k'].iloc[4] = 252\n",
    "bbas_real_VR['k'].iloc[5] = 504"
   ]
  },
  {
   "cell_type": "markdown",
   "metadata": {},
   "source": [
    "Pronto. O próximo passo é criar a Variance Ratio. A estatística de razão de variância de Lo and MacKinlay segue a seguinte equação:\n",
    "\n",
    "$$\n",
    "    VarianceRatio_k = \\frac{\\mathbb{V}[r_{t-k}]}{k\\cdot \\mathbb{V}[r_t]} - 1\n",
    "$$\n",
    "\n",
    "onde $\\mathbb{V}[\\cdot]$ é o operador da variância, $k$ é o número de dias entre os preços que se calcula o retorno, por exemplo, para a variável de retornos semanais, temos um $k = 5$ (dias úteis)."
   ]
  },
  {
   "cell_type": "markdown",
   "metadata": {},
   "source": [
    "A hipótese que temos é que \n",
    "\n",
    "$$\n",
    "    VarianceRatio_k \\sim N(0, \\sigma^2_k)\n",
    "$$\n",
    "\n",
    "onde\n",
    "\n",
    "$$\n",
    "    \\sigma^2_k = \\frac{2(k-1)(2k-1)}{3kn}\n",
    "$$\n",
    "\n",
    "onde $n$ é o tamanho da amostra."
   ]
  },
  {
   "cell_type": "code",
   "execution_count": 56,
   "metadata": {},
   "outputs": [],
   "source": [
    "# dropamos as três primeiras linhas com NaN\n",
    "n = len(ibov_['IBOV_(t)'].dropna())"
   ]
  },
  {
   "cell_type": "markdown",
   "metadata": {},
   "source": [
    "Para o cálculo da estatística final temos\n",
    "\n",
    "$$\n",
    "    Statistic = \\frac{VarianceRatio_k}{\\sigma_k}\n",
    "$$"
   ]
  },
  {
   "cell_type": "markdown",
   "metadata": {},
   "source": [
    "Já o p-value é a probabilidade sob a hipótese nula de se observar o que estamos observando ou algo mais extremo. Nesse caso, será a integral de uma distribuição normal padrão, com o limite inferior sendo o valor absoluto da estatística e limite superior $\\infty$. Segue a ilustração da normal padronizada abaixo."
   ]
  },
  {
   "cell_type": "code",
   "execution_count": 57,
   "metadata": {},
   "outputs": [
    {
     "data": {
      "text/plain": [
       "[<matplotlib.lines.Line2D at 0x1fe915d9cc0>]"
      ]
     },
     "execution_count": 57,
     "metadata": {},
     "output_type": "execute_result"
    },
    {
     "data": {
      "image/png": "[encoded data removed]",
      "text/plain": [
       "<Figure size 432x288 with 1 Axes>"
      ]
     },
     "metadata": {
      "needs_background": "light"
     },
     "output_type": "display_data"
    }
   ],
   "source": [
    "fig, ax = plt.subplots(1, 1)\n",
    "x = np.linspace(stats.norm.ppf(0.00001),\n",
    "                stats.norm.ppf(0.99999), 100)\n",
    "ax.plot(x, stats.norm.pdf(x),\n",
    "       'k-', lw=5, alpha=0.6, label='norm pdf')"
   ]
  },
  {
   "cell_type": "markdown",
   "metadata": {},
   "source": [
    "Vamos utilizar para esse teste, o nível de significância $\\alpha = 0.05$ padrão nos testes de hipóteses. A regra de rejeição é\n",
    "\n",
    "* Se p-value > $\\alpha = 0.05$, então não rejeita-se $H_0$\n",
    "* Se p-value < $\\alpha = 0.05$, então rejeita-se $H_0$"
   ]
  },
  {
   "cell_type": "markdown",
   "metadata": {},
   "source": [
    "Agora vamos definir uma função que faça todos esses cálculos."
   ]
  },
  {
   "cell_type": "code",
   "execution_count": 58,
   "metadata": {},
   "outputs": [],
   "source": [
    "def variance_ratio(df):\n",
    "    df['Variance Ratio (VR)'] = (df['Variance'] / (df['k'] * df['Variance'].iloc[0])) - 1\n",
    "    df['Variance of VR'] = (2 * (df['k'] - 1)*(2 * df['k'] - 1))/(3 * df['k'] * n)\n",
    "    df['Standard Deviation of VR'] = np.sqrt(df['Variance of VR'])\n",
    "    df['Statistic'] = df['Variance Ratio (VR)']/df['Standard Deviation of VR']\n",
    "    df['p-value'] = stats.norm.sf(abs(df['Statistic']))"
   ]
  },
  {
   "cell_type": "code",
   "execution_count": 59,
   "metadata": {},
   "outputs": [],
   "source": [
    "variance_ratio(ibov_VR)\n",
    "variance_ratio(ibov_real_VR)\n",
    "variance_ratio(vale_VR)\n",
    "variance_ratio(vale_real_VR)\n",
    "variance_ratio(bbas_VR)\n",
    "variance_ratio(bbas_real_VR)"
   ]
  },
  {
   "cell_type": "markdown",
   "metadata": {},
   "source": [
    "Vamos dropar a primeira linha. Não há a necessidade de fazer o teste de hipótese entre a série diária com ela mesma."
   ]
  },
  {
   "cell_type": "code",
   "execution_count": 60,
   "metadata": {},
   "outputs": [],
   "source": [
    "ibov_VR = ibov_VR[1:]\n",
    "ibov_real_VR = ibov_real_VR[1:]\n",
    "vale_VR = vale_VR[1:]\n",
    "vale_real_VR = vale_real_VR[1:]\n",
    "bbas_VR = bbas_VR[1:]\n",
    "bbas_real_VR = bbas_real_VR[1:]"
   ]
  },
  {
   "cell_type": "markdown",
   "metadata": {},
   "source": [
    "Vamos criar mais uma função que atribui à série a rejeição ou não da hipótes nula"
   ]
  },
  {
   "cell_type": "code",
   "execution_count": 61,
   "metadata": {},
   "outputs": [],
   "source": [
    "def null_hypothesis(df):\n",
    "    for i in range(len(df)):\n",
    "        df['Reject null hypothesis'] = df['Reject null hypothesis'].astype(\"string\")\n",
    "        if df['p-value'][i] > 0.05:\n",
    "            df['Reject null hypothesis'][i] = 'Não'\n",
    "        elif df['p-value'][i] < 0.05:\n",
    "            df['Reject null hypothesis'][i] = 'Sim'\n",
    "        else:\n",
    "            pass   "
   ]
  },
  {
   "cell_type": "code",
   "execution_count": 62,
   "metadata": {},
   "outputs": [],
   "source": [
    "null_hypothesis(ibov_VR)\n",
    "null_hypothesis(ibov_real_VR)\n",
    "null_hypothesis(vale_VR)\n",
    "null_hypothesis(vale_real_VR)\n",
    "null_hypothesis(bbas_VR)\n",
    "null_hypothesis(bbas_real_VR)"
   ]
  },
  {
   "cell_type": "code",
   "execution_count": 63,
   "metadata": {},
   "outputs": [
    {
     "data": {
      "text/html": [
       "<div>\n",
       "<style scoped>\n",
       "    .dataframe tbody tr th:only-of-type {\n",
       "        vertical-align: middle;\n",
       "    }\n",
       "\n",
       "    .dataframe tbody tr th {\n",
       "        vertical-align: top;\n",
       "    }\n",
       "\n",
       "    .dataframe thead th {\n",
       "        text-align: right;\n",
       "    }\n",
       "</style>\n",
       "<table border=\"1\" class=\"dataframe\">\n",
       "  <thead>\n",
       "    <tr style=\"text-align: right;\">\n",
       "      <th></th>\n",
       "      <th>Variance</th>\n",
       "      <th>k</th>\n",
       "      <th>Variance Ratio (VR)</th>\n",
       "      <th>Variance of VR</th>\n",
       "      <th>Standard Deviation of VR</th>\n",
       "      <th>Statistic</th>\n",
       "      <th>p-value</th>\n",
       "      <th>Reject null hypothesis</th>\n",
       "    </tr>\n",
       "  </thead>\n",
       "  <tbody>\n",
       "    <tr>\n",
       "      <th>IBOV_(t-5)</th>\n",
       "      <td>0.001446</td>\n",
       "      <td>5.0</td>\n",
       "      <td>-0.084445</td>\n",
       "      <td>0.000855</td>\n",
       "      <td>0.029246</td>\n",
       "      <td>-2.887419</td>\n",
       "      <td>0.001942</td>\n",
       "      <td>Sim</td>\n",
       "    </tr>\n",
       "    <tr>\n",
       "      <th>IBOV_(t-22)</th>\n",
       "      <td>0.006307</td>\n",
       "      <td>22.0</td>\n",
       "      <td>-0.092281</td>\n",
       "      <td>0.004876</td>\n",
       "      <td>0.069828</td>\n",
       "      <td>-1.321547</td>\n",
       "      <td>0.093160</td>\n",
       "      <td>Não</td>\n",
       "    </tr>\n",
       "    <tr>\n",
       "      <th>IBOV_(t-126)</th>\n",
       "      <td>0.037482</td>\n",
       "      <td>126.0</td>\n",
       "      <td>-0.058117</td>\n",
       "      <td>0.029580</td>\n",
       "      <td>0.171990</td>\n",
       "      <td>-0.337909</td>\n",
       "      <td>0.367716</td>\n",
       "      <td>Não</td>\n",
       "    </tr>\n",
       "    <tr>\n",
       "      <th>IBOV_(t-252)</th>\n",
       "      <td>0.087254</td>\n",
       "      <td>252.0</td>\n",
       "      <td>0.096287</td>\n",
       "      <td>0.059516</td>\n",
       "      <td>0.243959</td>\n",
       "      <td>0.394684</td>\n",
       "      <td>0.346538</td>\n",
       "      <td>Não</td>\n",
       "    </tr>\n",
       "    <tr>\n",
       "      <th>IBOV_(t-504)</th>\n",
       "      <td>0.196771</td>\n",
       "      <td>504.0</td>\n",
       "      <td>0.236146</td>\n",
       "      <td>0.119387</td>\n",
       "      <td>0.345525</td>\n",
       "      <td>0.683443</td>\n",
       "      <td>0.247164</td>\n",
       "      <td>Não</td>\n",
       "    </tr>\n",
       "  </tbody>\n",
       "</table>\n",
       "</div>"
      ],
      "text/plain": [
       "              Variance      k  Variance Ratio (VR)  Variance of VR  \\\n",
       "IBOV_(t-5)    0.001446    5.0            -0.084445        0.000855   \n",
       "IBOV_(t-22)   0.006307   22.0            -0.092281        0.004876   \n",
       "IBOV_(t-126)  0.037482  126.0            -0.058117        0.029580   \n",
       "IBOV_(t-252)  0.087254  252.0             0.096287        0.059516   \n",
       "IBOV_(t-504)  0.196771  504.0             0.236146        0.119387   \n",
       "\n",
       "              Standard Deviation of VR  Statistic   p-value  \\\n",
       "IBOV_(t-5)                    0.029246  -2.887419  0.001942   \n",
       "IBOV_(t-22)                   0.069828  -1.321547  0.093160   \n",
       "IBOV_(t-126)                  0.171990  -0.337909  0.367716   \n",
       "IBOV_(t-252)                  0.243959   0.394684  0.346538   \n",
       "IBOV_(t-504)                  0.345525   0.683443  0.247164   \n",
       "\n",
       "             Reject null hypothesis  \n",
       "IBOV_(t-5)                      Sim  \n",
       "IBOV_(t-22)                     Não  \n",
       "IBOV_(t-126)                    Não  \n",
       "IBOV_(t-252)                    Não  \n",
       "IBOV_(t-504)                    Não  "
      ]
     },
     "execution_count": 63,
     "metadata": {},
     "output_type": "execute_result"
    }
   ],
   "source": [
    "ibov_VR"
   ]
  },
  {
   "cell_type": "code",
   "execution_count": 64,
   "metadata": {},
   "outputs": [
    {
     "data": {
      "text/html": [
       "<div>\n",
       "<style scoped>\n",
       "    .dataframe tbody tr th:only-of-type {\n",
       "        vertical-align: middle;\n",
       "    }\n",
       "\n",
       "    .dataframe tbody tr th {\n",
       "        vertical-align: top;\n",
       "    }\n",
       "\n",
       "    .dataframe thead th {\n",
       "        text-align: right;\n",
       "    }\n",
       "</style>\n",
       "<table border=\"1\" class=\"dataframe\">\n",
       "  <thead>\n",
       "    <tr style=\"text-align: right;\">\n",
       "      <th></th>\n",
       "      <th>Variance</th>\n",
       "      <th>k</th>\n",
       "      <th>Variance Ratio (VR)</th>\n",
       "      <th>Variance of VR</th>\n",
       "      <th>Standard Deviation of VR</th>\n",
       "      <th>Statistic</th>\n",
       "      <th>p-value</th>\n",
       "      <th>Reject null hypothesis</th>\n",
       "    </tr>\n",
       "  </thead>\n",
       "  <tbody>\n",
       "    <tr>\n",
       "      <th>IBOV_real_(t-5)</th>\n",
       "      <td>0.001443</td>\n",
       "      <td>5.0</td>\n",
       "      <td>-0.086000</td>\n",
       "      <td>0.000855</td>\n",
       "      <td>0.029246</td>\n",
       "      <td>-2.940588</td>\n",
       "      <td>0.001638</td>\n",
       "      <td>Sim</td>\n",
       "    </tr>\n",
       "    <tr>\n",
       "      <th>IBOV_real_(t-22)</th>\n",
       "      <td>0.006266</td>\n",
       "      <td>22.0</td>\n",
       "      <td>-0.098103</td>\n",
       "      <td>0.004876</td>\n",
       "      <td>0.069828</td>\n",
       "      <td>-1.404926</td>\n",
       "      <td>0.080022</td>\n",
       "      <td>Não</td>\n",
       "    </tr>\n",
       "    <tr>\n",
       "      <th>IBOV_real_(t-126)</th>\n",
       "      <td>0.036205</td>\n",
       "      <td>126.0</td>\n",
       "      <td>-0.090061</td>\n",
       "      <td>0.029580</td>\n",
       "      <td>0.171990</td>\n",
       "      <td>-0.523644</td>\n",
       "      <td>0.300263</td>\n",
       "      <td>Não</td>\n",
       "    </tr>\n",
       "    <tr>\n",
       "      <th>IBOV_real_(t-252)</th>\n",
       "      <td>0.079614</td>\n",
       "      <td>252.0</td>\n",
       "      <td>0.000468</td>\n",
       "      <td>0.059516</td>\n",
       "      <td>0.243959</td>\n",
       "      <td>0.001918</td>\n",
       "      <td>0.499235</td>\n",
       "      <td>Não</td>\n",
       "    </tr>\n",
       "    <tr>\n",
       "      <th>IBOV_real_(t-504)</th>\n",
       "      <td>0.158829</td>\n",
       "      <td>504.0</td>\n",
       "      <td>-0.002045</td>\n",
       "      <td>0.119387</td>\n",
       "      <td>0.345525</td>\n",
       "      <td>-0.005917</td>\n",
       "      <td>0.497639</td>\n",
       "      <td>Não</td>\n",
       "    </tr>\n",
       "  </tbody>\n",
       "</table>\n",
       "</div>"
      ],
      "text/plain": [
       "                   Variance      k  Variance Ratio (VR)  Variance of VR  \\\n",
       "IBOV_real_(t-5)    0.001443    5.0            -0.086000        0.000855   \n",
       "IBOV_real_(t-22)   0.006266   22.0            -0.098103        0.004876   \n",
       "IBOV_real_(t-126)  0.036205  126.0            -0.090061        0.029580   \n",
       "IBOV_real_(t-252)  0.079614  252.0             0.000468        0.059516   \n",
       "IBOV_real_(t-504)  0.158829  504.0            -0.002045        0.119387   \n",
       "\n",
       "                   Standard Deviation of VR  Statistic   p-value  \\\n",
       "IBOV_real_(t-5)                    0.029246  -2.940588  0.001638   \n",
       "IBOV_real_(t-22)                   0.069828  -1.404926  0.080022   \n",
       "IBOV_real_(t-126)                  0.171990  -0.523644  0.300263   \n",
       "IBOV_real_(t-252)                  0.243959   0.001918  0.499235   \n",
       "IBOV_real_(t-504)                  0.345525  -0.005917  0.497639   \n",
       "\n",
       "                  Reject null hypothesis  \n",
       "IBOV_real_(t-5)                      Sim  \n",
       "IBOV_real_(t-22)                     Não  \n",
       "IBOV_real_(t-126)                    Não  \n",
       "IBOV_real_(t-252)                    Não  \n",
       "IBOV_real_(t-504)                    Não  "
      ]
     },
     "execution_count": 64,
     "metadata": {},
     "output_type": "execute_result"
    }
   ],
   "source": [
    "ibov_real_VR"
   ]
  },
  {
   "cell_type": "code",
   "execution_count": 65,
   "metadata": {},
   "outputs": [
    {
     "data": {
      "text/html": [
       "<div>\n",
       "<style scoped>\n",
       "    .dataframe tbody tr th:only-of-type {\n",
       "        vertical-align: middle;\n",
       "    }\n",
       "\n",
       "    .dataframe tbody tr th {\n",
       "        vertical-align: top;\n",
       "    }\n",
       "\n",
       "    .dataframe thead th {\n",
       "        text-align: right;\n",
       "    }\n",
       "</style>\n",
       "<table border=\"1\" class=\"dataframe\">\n",
       "  <thead>\n",
       "    <tr style=\"text-align: right;\">\n",
       "      <th></th>\n",
       "      <th>Variance</th>\n",
       "      <th>k</th>\n",
       "      <th>Variance Ratio (VR)</th>\n",
       "      <th>Variance of VR</th>\n",
       "      <th>Standard Deviation of VR</th>\n",
       "      <th>Statistic</th>\n",
       "      <th>p-value</th>\n",
       "      <th>Reject null hypothesis</th>\n",
       "    </tr>\n",
       "  </thead>\n",
       "  <tbody>\n",
       "    <tr>\n",
       "      <th>VALE3_(t-5)</th>\n",
       "      <td>0.003218</td>\n",
       "      <td>5.0</td>\n",
       "      <td>-0.066257</td>\n",
       "      <td>0.000855</td>\n",
       "      <td>0.029246</td>\n",
       "      <td>-2.265532</td>\n",
       "      <td>0.011740</td>\n",
       "      <td>Sim</td>\n",
       "    </tr>\n",
       "    <tr>\n",
       "      <th>VALE3_(t-22)</th>\n",
       "      <td>0.012969</td>\n",
       "      <td>22.0</td>\n",
       "      <td>-0.144628</td>\n",
       "      <td>0.004876</td>\n",
       "      <td>0.069828</td>\n",
       "      <td>-2.071210</td>\n",
       "      <td>0.019170</td>\n",
       "      <td>Sim</td>\n",
       "    </tr>\n",
       "    <tr>\n",
       "      <th>VALE3_(t-126)</th>\n",
       "      <td>0.083288</td>\n",
       "      <td>126.0</td>\n",
       "      <td>-0.040857</td>\n",
       "      <td>0.029580</td>\n",
       "      <td>0.171990</td>\n",
       "      <td>-0.237558</td>\n",
       "      <td>0.406112</td>\n",
       "      <td>Não</td>\n",
       "    </tr>\n",
       "    <tr>\n",
       "      <th>VALE3_(t-252)</th>\n",
       "      <td>0.230666</td>\n",
       "      <td>252.0</td>\n",
       "      <td>0.328176</td>\n",
       "      <td>0.059516</td>\n",
       "      <td>0.243959</td>\n",
       "      <td>1.345210</td>\n",
       "      <td>0.089279</td>\n",
       "      <td>Não</td>\n",
       "    </tr>\n",
       "    <tr>\n",
       "      <th>VALE3_(t-504)</th>\n",
       "      <td>0.645674</td>\n",
       "      <td>504.0</td>\n",
       "      <td>0.858894</td>\n",
       "      <td>0.119387</td>\n",
       "      <td>0.345525</td>\n",
       "      <td>2.485769</td>\n",
       "      <td>0.006464</td>\n",
       "      <td>Sim</td>\n",
       "    </tr>\n",
       "  </tbody>\n",
       "</table>\n",
       "</div>"
      ],
      "text/plain": [
       "               Variance      k  Variance Ratio (VR)  Variance of VR  \\\n",
       "VALE3_(t-5)    0.003218    5.0            -0.066257        0.000855   \n",
       "VALE3_(t-22)   0.012969   22.0            -0.144628        0.004876   \n",
       "VALE3_(t-126)  0.083288  126.0            -0.040857        0.029580   \n",
       "VALE3_(t-252)  0.230666  252.0             0.328176        0.059516   \n",
       "VALE3_(t-504)  0.645674  504.0             0.858894        0.119387   \n",
       "\n",
       "               Standard Deviation of VR  Statistic   p-value  \\\n",
       "VALE3_(t-5)                    0.029246  -2.265532  0.011740   \n",
       "VALE3_(t-22)                   0.069828  -2.071210  0.019170   \n",
       "VALE3_(t-126)                  0.171990  -0.237558  0.406112   \n",
       "VALE3_(t-252)                  0.243959   1.345210  0.089279   \n",
       "VALE3_(t-504)                  0.345525   2.485769  0.006464   \n",
       "\n",
       "              Reject null hypothesis  \n",
       "VALE3_(t-5)                      Sim  \n",
       "VALE3_(t-22)                     Sim  \n",
       "VALE3_(t-126)                    Não  \n",
       "VALE3_(t-252)                    Não  \n",
       "VALE3_(t-504)                    Sim  "
      ]
     },
     "execution_count": 65,
     "metadata": {},
     "output_type": "execute_result"
    }
   ],
   "source": [
    "vale_VR"
   ]
  },
  {
   "cell_type": "code",
   "execution_count": 66,
   "metadata": {},
   "outputs": [
    {
     "data": {
      "text/html": [
       "<div>\n",
       "<style scoped>\n",
       "    .dataframe tbody tr th:only-of-type {\n",
       "        vertical-align: middle;\n",
       "    }\n",
       "\n",
       "    .dataframe tbody tr th {\n",
       "        vertical-align: top;\n",
       "    }\n",
       "\n",
       "    .dataframe thead th {\n",
       "        text-align: right;\n",
       "    }\n",
       "</style>\n",
       "<table border=\"1\" class=\"dataframe\">\n",
       "  <thead>\n",
       "    <tr style=\"text-align: right;\">\n",
       "      <th></th>\n",
       "      <th>Variance</th>\n",
       "      <th>k</th>\n",
       "      <th>Variance Ratio (VR)</th>\n",
       "      <th>Variance of VR</th>\n",
       "      <th>Standard Deviation of VR</th>\n",
       "      <th>Statistic</th>\n",
       "      <th>p-value</th>\n",
       "      <th>Reject null hypothesis</th>\n",
       "    </tr>\n",
       "  </thead>\n",
       "  <tbody>\n",
       "    <tr>\n",
       "      <th>VALE3_real_(t-5)</th>\n",
       "      <td>0.003213</td>\n",
       "      <td>5.0</td>\n",
       "      <td>-0.067540</td>\n",
       "      <td>0.000855</td>\n",
       "      <td>0.029246</td>\n",
       "      <td>-2.309386</td>\n",
       "      <td>0.010461</td>\n",
       "      <td>Sim</td>\n",
       "    </tr>\n",
       "    <tr>\n",
       "      <th>VALE3_real_(t-22)</th>\n",
       "      <td>0.012889</td>\n",
       "      <td>22.0</td>\n",
       "      <td>-0.149737</td>\n",
       "      <td>0.004876</td>\n",
       "      <td>0.069828</td>\n",
       "      <td>-2.144380</td>\n",
       "      <td>0.016001</td>\n",
       "      <td>Sim</td>\n",
       "    </tr>\n",
       "    <tr>\n",
       "      <th>VALE3_real_(t-126)</th>\n",
       "      <td>0.079645</td>\n",
       "      <td>126.0</td>\n",
       "      <td>-0.082650</td>\n",
       "      <td>0.029580</td>\n",
       "      <td>0.171990</td>\n",
       "      <td>-0.480553</td>\n",
       "      <td>0.315417</td>\n",
       "      <td>Não</td>\n",
       "    </tr>\n",
       "    <tr>\n",
       "      <th>VALE3_real_(t-252)</th>\n",
       "      <td>0.208820</td>\n",
       "      <td>252.0</td>\n",
       "      <td>0.202585</td>\n",
       "      <td>0.059516</td>\n",
       "      <td>0.243959</td>\n",
       "      <td>0.830407</td>\n",
       "      <td>0.203154</td>\n",
       "      <td>Não</td>\n",
       "    </tr>\n",
       "    <tr>\n",
       "      <th>VALE3_real_(t-504)</th>\n",
       "      <td>0.515646</td>\n",
       "      <td>504.0</td>\n",
       "      <td>0.484793</td>\n",
       "      <td>0.119387</td>\n",
       "      <td>0.345525</td>\n",
       "      <td>1.403063</td>\n",
       "      <td>0.080299</td>\n",
       "      <td>Não</td>\n",
       "    </tr>\n",
       "  </tbody>\n",
       "</table>\n",
       "</div>"
      ],
      "text/plain": [
       "                    Variance      k  Variance Ratio (VR)  Variance of VR  \\\n",
       "VALE3_real_(t-5)    0.003213    5.0            -0.067540        0.000855   \n",
       "VALE3_real_(t-22)   0.012889   22.0            -0.149737        0.004876   \n",
       "VALE3_real_(t-126)  0.079645  126.0            -0.082650        0.029580   \n",
       "VALE3_real_(t-252)  0.208820  252.0             0.202585        0.059516   \n",
       "VALE3_real_(t-504)  0.515646  504.0             0.484793        0.119387   \n",
       "\n",
       "                    Standard Deviation of VR  Statistic   p-value  \\\n",
       "VALE3_real_(t-5)                    0.029246  -2.309386  0.010461   \n",
       "VALE3_real_(t-22)                   0.069828  -2.144380  0.016001   \n",
       "VALE3_real_(t-126)                  0.171990  -0.480553  0.315417   \n",
       "VALE3_real_(t-252)                  0.243959   0.830407  0.203154   \n",
       "VALE3_real_(t-504)                  0.345525   1.403063  0.080299   \n",
       "\n",
       "                   Reject null hypothesis  \n",
       "VALE3_real_(t-5)                      Sim  \n",
       "VALE3_real_(t-22)                     Sim  \n",
       "VALE3_real_(t-126)                    Não  \n",
       "VALE3_real_(t-252)                    Não  \n",
       "VALE3_real_(t-504)                    Não  "
      ]
     },
     "execution_count": 66,
     "metadata": {},
     "output_type": "execute_result"
    }
   ],
   "source": [
    "vale_real_VR"
   ]
  },
  {
   "cell_type": "code",
   "execution_count": 67,
   "metadata": {},
   "outputs": [
    {
     "data": {
      "text/html": [
       "<div>\n",
       "<style scoped>\n",
       "    .dataframe tbody tr th:only-of-type {\n",
       "        vertical-align: middle;\n",
       "    }\n",
       "\n",
       "    .dataframe tbody tr th {\n",
       "        vertical-align: top;\n",
       "    }\n",
       "\n",
       "    .dataframe thead th {\n",
       "        text-align: right;\n",
       "    }\n",
       "</style>\n",
       "<table border=\"1\" class=\"dataframe\">\n",
       "  <thead>\n",
       "    <tr style=\"text-align: right;\">\n",
       "      <th></th>\n",
       "      <th>Variance</th>\n",
       "      <th>k</th>\n",
       "      <th>Variance Ratio (VR)</th>\n",
       "      <th>Variance of VR</th>\n",
       "      <th>Standard Deviation of VR</th>\n",
       "      <th>Statistic</th>\n",
       "      <th>p-value</th>\n",
       "      <th>Reject null hypothesis</th>\n",
       "    </tr>\n",
       "  </thead>\n",
       "  <tbody>\n",
       "    <tr>\n",
       "      <th>BBAS3_(t-5)</th>\n",
       "      <td>0.003668</td>\n",
       "      <td>5.0</td>\n",
       "      <td>-0.046337</td>\n",
       "      <td>0.000855</td>\n",
       "      <td>0.029246</td>\n",
       "      <td>-1.584395</td>\n",
       "      <td>0.056552</td>\n",
       "      <td>Não</td>\n",
       "    </tr>\n",
       "    <tr>\n",
       "      <th>BBAS3_(t-22)</th>\n",
       "      <td>0.015017</td>\n",
       "      <td>22.0</td>\n",
       "      <td>-0.112707</td>\n",
       "      <td>0.004876</td>\n",
       "      <td>0.069828</td>\n",
       "      <td>-1.614078</td>\n",
       "      <td>0.053255</td>\n",
       "      <td>Não</td>\n",
       "    </tr>\n",
       "    <tr>\n",
       "      <th>BBAS3_(t-126)</th>\n",
       "      <td>0.083887</td>\n",
       "      <td>126.0</td>\n",
       "      <td>-0.134588</td>\n",
       "      <td>0.029580</td>\n",
       "      <td>0.171990</td>\n",
       "      <td>-0.782536</td>\n",
       "      <td>0.216950</td>\n",
       "      <td>Não</td>\n",
       "    </tr>\n",
       "    <tr>\n",
       "      <th>BBAS3_(t-252)</th>\n",
       "      <td>0.169838</td>\n",
       "      <td>252.0</td>\n",
       "      <td>-0.123946</td>\n",
       "      <td>0.059516</td>\n",
       "      <td>0.243959</td>\n",
       "      <td>-0.508061</td>\n",
       "      <td>0.305705</td>\n",
       "      <td>Não</td>\n",
       "    </tr>\n",
       "    <tr>\n",
       "      <th>BBAS3_(t-504)</th>\n",
       "      <td>0.433524</td>\n",
       "      <td>504.0</td>\n",
       "      <td>0.118097</td>\n",
       "      <td>0.119387</td>\n",
       "      <td>0.345525</td>\n",
       "      <td>0.341791</td>\n",
       "      <td>0.366254</td>\n",
       "      <td>Não</td>\n",
       "    </tr>\n",
       "  </tbody>\n",
       "</table>\n",
       "</div>"
      ],
      "text/plain": [
       "               Variance      k  Variance Ratio (VR)  Variance of VR  \\\n",
       "BBAS3_(t-5)    0.003668    5.0            -0.046337        0.000855   \n",
       "BBAS3_(t-22)   0.015017   22.0            -0.112707        0.004876   \n",
       "BBAS3_(t-126)  0.083887  126.0            -0.134588        0.029580   \n",
       "BBAS3_(t-252)  0.169838  252.0            -0.123946        0.059516   \n",
       "BBAS3_(t-504)  0.433524  504.0             0.118097        0.119387   \n",
       "\n",
       "               Standard Deviation of VR  Statistic   p-value  \\\n",
       "BBAS3_(t-5)                    0.029246  -1.584395  0.056552   \n",
       "BBAS3_(t-22)                   0.069828  -1.614078  0.053255   \n",
       "BBAS3_(t-126)                  0.171990  -0.782536  0.216950   \n",
       "BBAS3_(t-252)                  0.243959  -0.508061  0.305705   \n",
       "BBAS3_(t-504)                  0.345525   0.341791  0.366254   \n",
       "\n",
       "              Reject null hypothesis  \n",
       "BBAS3_(t-5)                      Não  \n",
       "BBAS3_(t-22)                     Não  \n",
       "BBAS3_(t-126)                    Não  \n",
       "BBAS3_(t-252)                    Não  \n",
       "BBAS3_(t-504)                    Não  "
      ]
     },
     "execution_count": 67,
     "metadata": {},
     "output_type": "execute_result"
    }
   ],
   "source": [
    "bbas_VR"
   ]
  },
  {
   "cell_type": "code",
   "execution_count": 68,
   "metadata": {},
   "outputs": [
    {
     "data": {
      "text/html": [
       "<div>\n",
       "<style scoped>\n",
       "    .dataframe tbody tr th:only-of-type {\n",
       "        vertical-align: middle;\n",
       "    }\n",
       "\n",
       "    .dataframe tbody tr th {\n",
       "        vertical-align: top;\n",
       "    }\n",
       "\n",
       "    .dataframe thead th {\n",
       "        text-align: right;\n",
       "    }\n",
       "</style>\n",
       "<table border=\"1\" class=\"dataframe\">\n",
       "  <thead>\n",
       "    <tr style=\"text-align: right;\">\n",
       "      <th></th>\n",
       "      <th>Variance</th>\n",
       "      <th>k</th>\n",
       "      <th>Variance Ratio (VR)</th>\n",
       "      <th>Variance of VR</th>\n",
       "      <th>Standard Deviation of VR</th>\n",
       "      <th>Statistic</th>\n",
       "      <th>p-value</th>\n",
       "      <th>Reject null hypothesis</th>\n",
       "    </tr>\n",
       "  </thead>\n",
       "  <tbody>\n",
       "    <tr>\n",
       "      <th>BBAS3_real_(t-5)</th>\n",
       "      <td>0.003660</td>\n",
       "      <td>5.0</td>\n",
       "      <td>-0.048223</td>\n",
       "      <td>0.000855</td>\n",
       "      <td>0.029246</td>\n",
       "      <td>-1.648878</td>\n",
       "      <td>0.049586</td>\n",
       "      <td>Sim</td>\n",
       "    </tr>\n",
       "    <tr>\n",
       "      <th>BBAS3_real_(t-22)</th>\n",
       "      <td>0.014881</td>\n",
       "      <td>22.0</td>\n",
       "      <td>-0.120498</td>\n",
       "      <td>0.004876</td>\n",
       "      <td>0.069828</td>\n",
       "      <td>-1.725642</td>\n",
       "      <td>0.042206</td>\n",
       "      <td>Sim</td>\n",
       "    </tr>\n",
       "    <tr>\n",
       "      <th>BBAS3_real_(t-126)</th>\n",
       "      <td>0.080157</td>\n",
       "      <td>126.0</td>\n",
       "      <td>-0.172836</td>\n",
       "      <td>0.029580</td>\n",
       "      <td>0.171990</td>\n",
       "      <td>-1.004919</td>\n",
       "      <td>0.157468</td>\n",
       "      <td>Não</td>\n",
       "    </tr>\n",
       "    <tr>\n",
       "      <th>BBAS3_real_(t-252)</th>\n",
       "      <td>0.151784</td>\n",
       "      <td>252.0</td>\n",
       "      <td>-0.216846</td>\n",
       "      <td>0.059516</td>\n",
       "      <td>0.243959</td>\n",
       "      <td>-0.888865</td>\n",
       "      <td>0.187038</td>\n",
       "      <td>Não</td>\n",
       "    </tr>\n",
       "    <tr>\n",
       "      <th>BBAS3_real_(t-504)</th>\n",
       "      <td>0.333630</td>\n",
       "      <td>504.0</td>\n",
       "      <td>-0.139290</td>\n",
       "      <td>0.119387</td>\n",
       "      <td>0.345525</td>\n",
       "      <td>-0.403126</td>\n",
       "      <td>0.343428</td>\n",
       "      <td>Não</td>\n",
       "    </tr>\n",
       "  </tbody>\n",
       "</table>\n",
       "</div>"
      ],
      "text/plain": [
       "                    Variance      k  Variance Ratio (VR)  Variance of VR  \\\n",
       "BBAS3_real_(t-5)    0.003660    5.0            -0.048223        0.000855   \n",
       "BBAS3_real_(t-22)   0.014881   22.0            -0.120498        0.004876   \n",
       "BBAS3_real_(t-126)  0.080157  126.0            -0.172836        0.029580   \n",
       "BBAS3_real_(t-252)  0.151784  252.0            -0.216846        0.059516   \n",
       "BBAS3_real_(t-504)  0.333630  504.0            -0.139290        0.119387   \n",
       "\n",
       "                    Standard Deviation of VR  Statistic   p-value  \\\n",
       "BBAS3_real_(t-5)                    0.029246  -1.648878  0.049586   \n",
       "BBAS3_real_(t-22)                   0.069828  -1.725642  0.042206   \n",
       "BBAS3_real_(t-126)                  0.171990  -1.004919  0.157468   \n",
       "BBAS3_real_(t-252)                  0.243959  -0.888865  0.187038   \n",
       "BBAS3_real_(t-504)                  0.345525  -0.403126  0.343428   \n",
       "\n",
       "                   Reject null hypothesis  \n",
       "BBAS3_real_(t-5)                      Sim  \n",
       "BBAS3_real_(t-22)                     Sim  \n",
       "BBAS3_real_(t-126)                    Não  \n",
       "BBAS3_real_(t-252)                    Não  \n",
       "BBAS3_real_(t-504)                    Não  "
      ]
     },
     "execution_count": 68,
     "metadata": {},
     "output_type": "execute_result"
    }
   ],
   "source": [
    "bbas_real_VR"
   ]
  },
  {
   "cell_type": "markdown",
   "metadata": {},
   "source": [
    "O teste de razão da variância de Lo and MacKinlay visa verificar como as séries de retornos diários de um ativo estão relacionadas com as a série de retornos de $k$-dias do mesmo ativo. Os resultados mostram quem conforme $k$ aumenta, as chances são maiores de não rejeitar $H_0$ de independência entre os dados.\n",
    "\n",
    "Analisando mais minuciosamente, verifica-se que entre as séries do Ibovespa Nominal e Real, apenas a série de retornos semanais rejeita $H_0$ indicando dependência na estrutura dos retornos, enquanto que para os demais retornos $H_0$ não é rejeitada. Para as séries das ações preferenciais da Vale, o resultado encontrado é que há rejeição de $H_0$ para os retornos semanais e mensais para ambas séries nominais ou reais, enquanto para retornos semestrais e anuais, a hipótese nula não é rejeitada, também para ambas séries nominais e reais, por fim, para retornos de dois anos, a série nominal da Vale rejeita $H_0$, enquanto a série real não. Finalmente, a série retornos do Banco do Brasil em termoss nominais não rejeita $H_0$ para todos retornos, ao passo que em termos reais, a hipótese nula é rejeitada para os retornos semanais e mensais e não rejeitada para retornos semestrais, anuais e de dois anos."
   ]
  }
 ],
 "metadata": {
  "interpreter": {
   "hash": "c63d8c7d738c2960218a10995aedf0a7f67a49a231e71037adf0440953cdb45b"
  },
  "kernelspec": {
   "display_name": "Python 3.10.2 64-bit",
   "language": "python",
   "name": "python3"
  },
  "language_info": {
   "codemirror_mode": {
    "name": "ipython",
    "version": 3
   },
   "file_extension": ".py",
   "mimetype": "text/x-python",
   "name": "python",
   "nbconvert_exporter": "python",
   "pygments_lexer": "ipython3",
   "version": "3.10.2"
  },
  "orig_nbformat": 4
 },
 "nbformat": 4,
 "nbformat_minor": 2
}
